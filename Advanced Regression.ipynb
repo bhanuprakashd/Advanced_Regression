{
 "cells": [
  {
   "cell_type": "markdown",
   "id": "121461c5",
   "metadata": {},
   "source": [
    "# Import Libraries"
   ]
  },
  {
   "cell_type": "code",
   "execution_count": 1,
   "id": "926e375a",
   "metadata": {},
   "outputs": [],
   "source": [
    "import numpy as np\n",
    "import pandas as pd\n",
    "import matplotlib.pyplot as plt\n",
    "import seaborn as sns\n",
    "from sklearn.preprocessing import StandardScaler\n",
    "from sklearn.linear_model import LinearRegression,Ridge,Lasso\n",
    "from sklearn.metrics import confusion_matrix,r2_score,mean_squared_error\n",
    "from sklearn.model_selection import GridSearchCV,train_test_split\n",
    "import statsmodels.api as sm\n",
    "from scipy import stats\n",
    "from sklearn.preprocessing import PowerTransformer\n",
    "from sklearn.feature_selection import RFE\n",
    "from statsmodels.stats.outliers_influence import variance_inflation_factor"
   ]
  },
  {
   "cell_type": "markdown",
   "id": "873e4ed1",
   "metadata": {},
   "source": [
    "# Reading and understanding Data"
   ]
  },
  {
   "cell_type": "code",
   "execution_count": 2,
   "id": "39988729",
   "metadata": {},
   "outputs": [
    {
     "data": {
      "text/html": [
       "<div>\n",
       "<style scoped>\n",
       "    .dataframe tbody tr th:only-of-type {\n",
       "        vertical-align: middle;\n",
       "    }\n",
       "\n",
       "    .dataframe tbody tr th {\n",
       "        vertical-align: top;\n",
       "    }\n",
       "\n",
       "    .dataframe thead th {\n",
       "        text-align: right;\n",
       "    }\n",
       "</style>\n",
       "<table border=\"1\" class=\"dataframe\">\n",
       "  <thead>\n",
       "    <tr style=\"text-align: right;\">\n",
       "      <th></th>\n",
       "      <th>Id</th>\n",
       "      <th>MSSubClass</th>\n",
       "      <th>MSZoning</th>\n",
       "      <th>LotFrontage</th>\n",
       "      <th>LotArea</th>\n",
       "      <th>Street</th>\n",
       "      <th>Alley</th>\n",
       "      <th>LotShape</th>\n",
       "      <th>LandContour</th>\n",
       "      <th>Utilities</th>\n",
       "      <th>...</th>\n",
       "      <th>PoolArea</th>\n",
       "      <th>PoolQC</th>\n",
       "      <th>Fence</th>\n",
       "      <th>MiscFeature</th>\n",
       "      <th>MiscVal</th>\n",
       "      <th>MoSold</th>\n",
       "      <th>YrSold</th>\n",
       "      <th>SaleType</th>\n",
       "      <th>SaleCondition</th>\n",
       "      <th>SalePrice</th>\n",
       "    </tr>\n",
       "  </thead>\n",
       "  <tbody>\n",
       "    <tr>\n",
       "      <th>0</th>\n",
       "      <td>1</td>\n",
       "      <td>60</td>\n",
       "      <td>RL</td>\n",
       "      <td>65.0</td>\n",
       "      <td>8450</td>\n",
       "      <td>Pave</td>\n",
       "      <td>NaN</td>\n",
       "      <td>Reg</td>\n",
       "      <td>Lvl</td>\n",
       "      <td>AllPub</td>\n",
       "      <td>...</td>\n",
       "      <td>0</td>\n",
       "      <td>NaN</td>\n",
       "      <td>NaN</td>\n",
       "      <td>NaN</td>\n",
       "      <td>0</td>\n",
       "      <td>2</td>\n",
       "      <td>2008</td>\n",
       "      <td>WD</td>\n",
       "      <td>Normal</td>\n",
       "      <td>208500</td>\n",
       "    </tr>\n",
       "    <tr>\n",
       "      <th>1</th>\n",
       "      <td>2</td>\n",
       "      <td>20</td>\n",
       "      <td>RL</td>\n",
       "      <td>80.0</td>\n",
       "      <td>9600</td>\n",
       "      <td>Pave</td>\n",
       "      <td>NaN</td>\n",
       "      <td>Reg</td>\n",
       "      <td>Lvl</td>\n",
       "      <td>AllPub</td>\n",
       "      <td>...</td>\n",
       "      <td>0</td>\n",
       "      <td>NaN</td>\n",
       "      <td>NaN</td>\n",
       "      <td>NaN</td>\n",
       "      <td>0</td>\n",
       "      <td>5</td>\n",
       "      <td>2007</td>\n",
       "      <td>WD</td>\n",
       "      <td>Normal</td>\n",
       "      <td>181500</td>\n",
       "    </tr>\n",
       "    <tr>\n",
       "      <th>2</th>\n",
       "      <td>3</td>\n",
       "      <td>60</td>\n",
       "      <td>RL</td>\n",
       "      <td>68.0</td>\n",
       "      <td>11250</td>\n",
       "      <td>Pave</td>\n",
       "      <td>NaN</td>\n",
       "      <td>IR1</td>\n",
       "      <td>Lvl</td>\n",
       "      <td>AllPub</td>\n",
       "      <td>...</td>\n",
       "      <td>0</td>\n",
       "      <td>NaN</td>\n",
       "      <td>NaN</td>\n",
       "      <td>NaN</td>\n",
       "      <td>0</td>\n",
       "      <td>9</td>\n",
       "      <td>2008</td>\n",
       "      <td>WD</td>\n",
       "      <td>Normal</td>\n",
       "      <td>223500</td>\n",
       "    </tr>\n",
       "    <tr>\n",
       "      <th>3</th>\n",
       "      <td>4</td>\n",
       "      <td>70</td>\n",
       "      <td>RL</td>\n",
       "      <td>60.0</td>\n",
       "      <td>9550</td>\n",
       "      <td>Pave</td>\n",
       "      <td>NaN</td>\n",
       "      <td>IR1</td>\n",
       "      <td>Lvl</td>\n",
       "      <td>AllPub</td>\n",
       "      <td>...</td>\n",
       "      <td>0</td>\n",
       "      <td>NaN</td>\n",
       "      <td>NaN</td>\n",
       "      <td>NaN</td>\n",
       "      <td>0</td>\n",
       "      <td>2</td>\n",
       "      <td>2006</td>\n",
       "      <td>WD</td>\n",
       "      <td>Abnorml</td>\n",
       "      <td>140000</td>\n",
       "    </tr>\n",
       "    <tr>\n",
       "      <th>4</th>\n",
       "      <td>5</td>\n",
       "      <td>60</td>\n",
       "      <td>RL</td>\n",
       "      <td>84.0</td>\n",
       "      <td>14260</td>\n",
       "      <td>Pave</td>\n",
       "      <td>NaN</td>\n",
       "      <td>IR1</td>\n",
       "      <td>Lvl</td>\n",
       "      <td>AllPub</td>\n",
       "      <td>...</td>\n",
       "      <td>0</td>\n",
       "      <td>NaN</td>\n",
       "      <td>NaN</td>\n",
       "      <td>NaN</td>\n",
       "      <td>0</td>\n",
       "      <td>12</td>\n",
       "      <td>2008</td>\n",
       "      <td>WD</td>\n",
       "      <td>Normal</td>\n",
       "      <td>250000</td>\n",
       "    </tr>\n",
       "  </tbody>\n",
       "</table>\n",
       "<p>5 rows × 81 columns</p>\n",
       "</div>"
      ],
      "text/plain": [
       "   Id  MSSubClass MSZoning  LotFrontage  LotArea Street Alley LotShape  \\\n",
       "0   1          60       RL         65.0     8450   Pave   NaN      Reg   \n",
       "1   2          20       RL         80.0     9600   Pave   NaN      Reg   \n",
       "2   3          60       RL         68.0    11250   Pave   NaN      IR1   \n",
       "3   4          70       RL         60.0     9550   Pave   NaN      IR1   \n",
       "4   5          60       RL         84.0    14260   Pave   NaN      IR1   \n",
       "\n",
       "  LandContour Utilities  ... PoolArea PoolQC Fence MiscFeature MiscVal MoSold  \\\n",
       "0         Lvl    AllPub  ...        0    NaN   NaN         NaN       0      2   \n",
       "1         Lvl    AllPub  ...        0    NaN   NaN         NaN       0      5   \n",
       "2         Lvl    AllPub  ...        0    NaN   NaN         NaN       0      9   \n",
       "3         Lvl    AllPub  ...        0    NaN   NaN         NaN       0      2   \n",
       "4         Lvl    AllPub  ...        0    NaN   NaN         NaN       0     12   \n",
       "\n",
       "  YrSold  SaleType  SaleCondition  SalePrice  \n",
       "0   2008        WD         Normal     208500  \n",
       "1   2007        WD         Normal     181500  \n",
       "2   2008        WD         Normal     223500  \n",
       "3   2006        WD        Abnorml     140000  \n",
       "4   2008        WD         Normal     250000  \n",
       "\n",
       "[5 rows x 81 columns]"
      ]
     },
     "execution_count": 2,
     "metadata": {},
     "output_type": "execute_result"
    }
   ],
   "source": [
    "# Load data\n",
    "df=pd.read_csv(\"train.csv\")\n",
    "df.head()"
   ]
  },
  {
   "cell_type": "code",
   "execution_count": 3,
   "id": "f041c6d0",
   "metadata": {},
   "outputs": [
    {
     "name": "stdout",
     "output_type": "stream",
     "text": [
      "<class 'pandas.core.frame.DataFrame'>\n",
      "RangeIndex: 1460 entries, 0 to 1459\n",
      "Data columns (total 81 columns):\n",
      " #   Column         Non-Null Count  Dtype  \n",
      "---  ------         --------------  -----  \n",
      " 0   Id             1460 non-null   int64  \n",
      " 1   MSSubClass     1460 non-null   int64  \n",
      " 2   MSZoning       1460 non-null   object \n",
      " 3   LotFrontage    1201 non-null   float64\n",
      " 4   LotArea        1460 non-null   int64  \n",
      " 5   Street         1460 non-null   object \n",
      " 6   Alley          91 non-null     object \n",
      " 7   LotShape       1460 non-null   object \n",
      " 8   LandContour    1460 non-null   object \n",
      " 9   Utilities      1460 non-null   object \n",
      " 10  LotConfig      1460 non-null   object \n",
      " 11  LandSlope      1460 non-null   object \n",
      " 12  Neighborhood   1460 non-null   object \n",
      " 13  Condition1     1460 non-null   object \n",
      " 14  Condition2     1460 non-null   object \n",
      " 15  BldgType       1460 non-null   object \n",
      " 16  HouseStyle     1460 non-null   object \n",
      " 17  OverallQual    1460 non-null   int64  \n",
      " 18  OverallCond    1460 non-null   int64  \n",
      " 19  YearBuilt      1460 non-null   int64  \n",
      " 20  YearRemodAdd   1460 non-null   int64  \n",
      " 21  RoofStyle      1460 non-null   object \n",
      " 22  RoofMatl       1460 non-null   object \n",
      " 23  Exterior1st    1460 non-null   object \n",
      " 24  Exterior2nd    1460 non-null   object \n",
      " 25  MasVnrType     1452 non-null   object \n",
      " 26  MasVnrArea     1452 non-null   float64\n",
      " 27  ExterQual      1460 non-null   object \n",
      " 28  ExterCond      1460 non-null   object \n",
      " 29  Foundation     1460 non-null   object \n",
      " 30  BsmtQual       1423 non-null   object \n",
      " 31  BsmtCond       1423 non-null   object \n",
      " 32  BsmtExposure   1422 non-null   object \n",
      " 33  BsmtFinType1   1423 non-null   object \n",
      " 34  BsmtFinSF1     1460 non-null   int64  \n",
      " 35  BsmtFinType2   1422 non-null   object \n",
      " 36  BsmtFinSF2     1460 non-null   int64  \n",
      " 37  BsmtUnfSF      1460 non-null   int64  \n",
      " 38  TotalBsmtSF    1460 non-null   int64  \n",
      " 39  Heating        1460 non-null   object \n",
      " 40  HeatingQC      1460 non-null   object \n",
      " 41  CentralAir     1460 non-null   object \n",
      " 42  Electrical     1459 non-null   object \n",
      " 43  1stFlrSF       1460 non-null   int64  \n",
      " 44  2ndFlrSF       1460 non-null   int64  \n",
      " 45  LowQualFinSF   1460 non-null   int64  \n",
      " 46  GrLivArea      1460 non-null   int64  \n",
      " 47  BsmtFullBath   1460 non-null   int64  \n",
      " 48  BsmtHalfBath   1460 non-null   int64  \n",
      " 49  FullBath       1460 non-null   int64  \n",
      " 50  HalfBath       1460 non-null   int64  \n",
      " 51  BedroomAbvGr   1460 non-null   int64  \n",
      " 52  KitchenAbvGr   1460 non-null   int64  \n",
      " 53  KitchenQual    1460 non-null   object \n",
      " 54  TotRmsAbvGrd   1460 non-null   int64  \n",
      " 55  Functional     1460 non-null   object \n",
      " 56  Fireplaces     1460 non-null   int64  \n",
      " 57  FireplaceQu    770 non-null    object \n",
      " 58  GarageType     1379 non-null   object \n",
      " 59  GarageYrBlt    1379 non-null   float64\n",
      " 60  GarageFinish   1379 non-null   object \n",
      " 61  GarageCars     1460 non-null   int64  \n",
      " 62  GarageArea     1460 non-null   int64  \n",
      " 63  GarageQual     1379 non-null   object \n",
      " 64  GarageCond     1379 non-null   object \n",
      " 65  PavedDrive     1460 non-null   object \n",
      " 66  WoodDeckSF     1460 non-null   int64  \n",
      " 67  OpenPorchSF    1460 non-null   int64  \n",
      " 68  EnclosedPorch  1460 non-null   int64  \n",
      " 69  3SsnPorch      1460 non-null   int64  \n",
      " 70  ScreenPorch    1460 non-null   int64  \n",
      " 71  PoolArea       1460 non-null   int64  \n",
      " 72  PoolQC         7 non-null      object \n",
      " 73  Fence          281 non-null    object \n",
      " 74  MiscFeature    54 non-null     object \n",
      " 75  MiscVal        1460 non-null   int64  \n",
      " 76  MoSold         1460 non-null   int64  \n",
      " 77  YrSold         1460 non-null   int64  \n",
      " 78  SaleType       1460 non-null   object \n",
      " 79  SaleCondition  1460 non-null   object \n",
      " 80  SalePrice      1460 non-null   int64  \n",
      "dtypes: float64(3), int64(35), object(43)\n",
      "memory usage: 924.0+ KB\n"
     ]
    }
   ],
   "source": [
    "#Check Info\n",
    "df.info()"
   ]
  },
  {
   "cell_type": "code",
   "execution_count": 4,
   "id": "130c5e20",
   "metadata": {},
   "outputs": [
    {
     "data": {
      "text/plain": [
       "(1460, 81)"
      ]
     },
     "execution_count": 4,
     "metadata": {},
     "output_type": "execute_result"
    }
   ],
   "source": [
    "# Check shape\n",
    "df.shape"
   ]
  },
  {
   "cell_type": "code",
   "execution_count": 5,
   "id": "48db2119",
   "metadata": {},
   "outputs": [
    {
     "data": {
      "text/plain": [
       "Index(['Id', 'MSSubClass', 'MSZoning', 'LotFrontage', 'LotArea', 'Street',\n",
       "       'Alley', 'LotShape', 'LandContour', 'Utilities', 'LotConfig',\n",
       "       'LandSlope', 'Neighborhood', 'Condition1', 'Condition2', 'BldgType',\n",
       "       'HouseStyle', 'OverallQual', 'OverallCond', 'YearBuilt', 'YearRemodAdd',\n",
       "       'RoofStyle', 'RoofMatl', 'Exterior1st', 'Exterior2nd', 'MasVnrType',\n",
       "       'MasVnrArea', 'ExterQual', 'ExterCond', 'Foundation', 'BsmtQual',\n",
       "       'BsmtCond', 'BsmtExposure', 'BsmtFinType1', 'BsmtFinSF1',\n",
       "       'BsmtFinType2', 'BsmtFinSF2', 'BsmtUnfSF', 'TotalBsmtSF', 'Heating',\n",
       "       'HeatingQC', 'CentralAir', 'Electrical', '1stFlrSF', '2ndFlrSF',\n",
       "       'LowQualFinSF', 'GrLivArea', 'BsmtFullBath', 'BsmtHalfBath', 'FullBath',\n",
       "       'HalfBath', 'BedroomAbvGr', 'KitchenAbvGr', 'KitchenQual',\n",
       "       'TotRmsAbvGrd', 'Functional', 'Fireplaces', 'FireplaceQu', 'GarageType',\n",
       "       'GarageYrBlt', 'GarageFinish', 'GarageCars', 'GarageArea', 'GarageQual',\n",
       "       'GarageCond', 'PavedDrive', 'WoodDeckSF', 'OpenPorchSF',\n",
       "       'EnclosedPorch', '3SsnPorch', 'ScreenPorch', 'PoolArea', 'PoolQC',\n",
       "       'Fence', 'MiscFeature', 'MiscVal', 'MoSold', 'YrSold', 'SaleType',\n",
       "       'SaleCondition', 'SalePrice'],\n",
       "      dtype='object')"
      ]
     },
     "execution_count": 5,
     "metadata": {},
     "output_type": "execute_result"
    }
   ],
   "source": [
    "# Check Columns\n",
    "df.columns"
   ]
  },
  {
   "cell_type": "code",
   "execution_count": 6,
   "id": "f6ae5975",
   "metadata": {},
   "outputs": [
    {
     "data": {
      "text/html": [
       "<div>\n",
       "<style scoped>\n",
       "    .dataframe tbody tr th:only-of-type {\n",
       "        vertical-align: middle;\n",
       "    }\n",
       "\n",
       "    .dataframe tbody tr th {\n",
       "        vertical-align: top;\n",
       "    }\n",
       "\n",
       "    .dataframe thead th {\n",
       "        text-align: right;\n",
       "    }\n",
       "</style>\n",
       "<table border=\"1\" class=\"dataframe\">\n",
       "  <thead>\n",
       "    <tr style=\"text-align: right;\">\n",
       "      <th></th>\n",
       "      <th>Id</th>\n",
       "      <th>MSSubClass</th>\n",
       "      <th>LotFrontage</th>\n",
       "      <th>LotArea</th>\n",
       "      <th>OverallQual</th>\n",
       "      <th>OverallCond</th>\n",
       "      <th>YearBuilt</th>\n",
       "      <th>YearRemodAdd</th>\n",
       "      <th>MasVnrArea</th>\n",
       "      <th>BsmtFinSF1</th>\n",
       "      <th>...</th>\n",
       "      <th>WoodDeckSF</th>\n",
       "      <th>OpenPorchSF</th>\n",
       "      <th>EnclosedPorch</th>\n",
       "      <th>3SsnPorch</th>\n",
       "      <th>ScreenPorch</th>\n",
       "      <th>PoolArea</th>\n",
       "      <th>MiscVal</th>\n",
       "      <th>MoSold</th>\n",
       "      <th>YrSold</th>\n",
       "      <th>SalePrice</th>\n",
       "    </tr>\n",
       "  </thead>\n",
       "  <tbody>\n",
       "    <tr>\n",
       "      <th>count</th>\n",
       "      <td>1460.000000</td>\n",
       "      <td>1460.000000</td>\n",
       "      <td>1201.000000</td>\n",
       "      <td>1460.000000</td>\n",
       "      <td>1460.000000</td>\n",
       "      <td>1460.000000</td>\n",
       "      <td>1460.000000</td>\n",
       "      <td>1460.000000</td>\n",
       "      <td>1452.000000</td>\n",
       "      <td>1460.000000</td>\n",
       "      <td>...</td>\n",
       "      <td>1460.000000</td>\n",
       "      <td>1460.000000</td>\n",
       "      <td>1460.000000</td>\n",
       "      <td>1460.000000</td>\n",
       "      <td>1460.000000</td>\n",
       "      <td>1460.000000</td>\n",
       "      <td>1460.000000</td>\n",
       "      <td>1460.000000</td>\n",
       "      <td>1460.000000</td>\n",
       "      <td>1460.000000</td>\n",
       "    </tr>\n",
       "    <tr>\n",
       "      <th>mean</th>\n",
       "      <td>730.500000</td>\n",
       "      <td>56.897260</td>\n",
       "      <td>70.049958</td>\n",
       "      <td>10516.828082</td>\n",
       "      <td>6.099315</td>\n",
       "      <td>5.575342</td>\n",
       "      <td>1971.267808</td>\n",
       "      <td>1984.865753</td>\n",
       "      <td>103.685262</td>\n",
       "      <td>443.639726</td>\n",
       "      <td>...</td>\n",
       "      <td>94.244521</td>\n",
       "      <td>46.660274</td>\n",
       "      <td>21.954110</td>\n",
       "      <td>3.409589</td>\n",
       "      <td>15.060959</td>\n",
       "      <td>2.758904</td>\n",
       "      <td>43.489041</td>\n",
       "      <td>6.321918</td>\n",
       "      <td>2007.815753</td>\n",
       "      <td>180921.195890</td>\n",
       "    </tr>\n",
       "    <tr>\n",
       "      <th>std</th>\n",
       "      <td>421.610009</td>\n",
       "      <td>42.300571</td>\n",
       "      <td>24.284752</td>\n",
       "      <td>9981.264932</td>\n",
       "      <td>1.382997</td>\n",
       "      <td>1.112799</td>\n",
       "      <td>30.202904</td>\n",
       "      <td>20.645407</td>\n",
       "      <td>181.066207</td>\n",
       "      <td>456.098091</td>\n",
       "      <td>...</td>\n",
       "      <td>125.338794</td>\n",
       "      <td>66.256028</td>\n",
       "      <td>61.119149</td>\n",
       "      <td>29.317331</td>\n",
       "      <td>55.757415</td>\n",
       "      <td>40.177307</td>\n",
       "      <td>496.123024</td>\n",
       "      <td>2.703626</td>\n",
       "      <td>1.328095</td>\n",
       "      <td>79442.502883</td>\n",
       "    </tr>\n",
       "    <tr>\n",
       "      <th>min</th>\n",
       "      <td>1.000000</td>\n",
       "      <td>20.000000</td>\n",
       "      <td>21.000000</td>\n",
       "      <td>1300.000000</td>\n",
       "      <td>1.000000</td>\n",
       "      <td>1.000000</td>\n",
       "      <td>1872.000000</td>\n",
       "      <td>1950.000000</td>\n",
       "      <td>0.000000</td>\n",
       "      <td>0.000000</td>\n",
       "      <td>...</td>\n",
       "      <td>0.000000</td>\n",
       "      <td>0.000000</td>\n",
       "      <td>0.000000</td>\n",
       "      <td>0.000000</td>\n",
       "      <td>0.000000</td>\n",
       "      <td>0.000000</td>\n",
       "      <td>0.000000</td>\n",
       "      <td>1.000000</td>\n",
       "      <td>2006.000000</td>\n",
       "      <td>34900.000000</td>\n",
       "    </tr>\n",
       "    <tr>\n",
       "      <th>25%</th>\n",
       "      <td>365.750000</td>\n",
       "      <td>20.000000</td>\n",
       "      <td>59.000000</td>\n",
       "      <td>7553.500000</td>\n",
       "      <td>5.000000</td>\n",
       "      <td>5.000000</td>\n",
       "      <td>1954.000000</td>\n",
       "      <td>1967.000000</td>\n",
       "      <td>0.000000</td>\n",
       "      <td>0.000000</td>\n",
       "      <td>...</td>\n",
       "      <td>0.000000</td>\n",
       "      <td>0.000000</td>\n",
       "      <td>0.000000</td>\n",
       "      <td>0.000000</td>\n",
       "      <td>0.000000</td>\n",
       "      <td>0.000000</td>\n",
       "      <td>0.000000</td>\n",
       "      <td>5.000000</td>\n",
       "      <td>2007.000000</td>\n",
       "      <td>129975.000000</td>\n",
       "    </tr>\n",
       "    <tr>\n",
       "      <th>50%</th>\n",
       "      <td>730.500000</td>\n",
       "      <td>50.000000</td>\n",
       "      <td>69.000000</td>\n",
       "      <td>9478.500000</td>\n",
       "      <td>6.000000</td>\n",
       "      <td>5.000000</td>\n",
       "      <td>1973.000000</td>\n",
       "      <td>1994.000000</td>\n",
       "      <td>0.000000</td>\n",
       "      <td>383.500000</td>\n",
       "      <td>...</td>\n",
       "      <td>0.000000</td>\n",
       "      <td>25.000000</td>\n",
       "      <td>0.000000</td>\n",
       "      <td>0.000000</td>\n",
       "      <td>0.000000</td>\n",
       "      <td>0.000000</td>\n",
       "      <td>0.000000</td>\n",
       "      <td>6.000000</td>\n",
       "      <td>2008.000000</td>\n",
       "      <td>163000.000000</td>\n",
       "    </tr>\n",
       "    <tr>\n",
       "      <th>75%</th>\n",
       "      <td>1095.250000</td>\n",
       "      <td>70.000000</td>\n",
       "      <td>80.000000</td>\n",
       "      <td>11601.500000</td>\n",
       "      <td>7.000000</td>\n",
       "      <td>6.000000</td>\n",
       "      <td>2000.000000</td>\n",
       "      <td>2004.000000</td>\n",
       "      <td>166.000000</td>\n",
       "      <td>712.250000</td>\n",
       "      <td>...</td>\n",
       "      <td>168.000000</td>\n",
       "      <td>68.000000</td>\n",
       "      <td>0.000000</td>\n",
       "      <td>0.000000</td>\n",
       "      <td>0.000000</td>\n",
       "      <td>0.000000</td>\n",
       "      <td>0.000000</td>\n",
       "      <td>8.000000</td>\n",
       "      <td>2009.000000</td>\n",
       "      <td>214000.000000</td>\n",
       "    </tr>\n",
       "    <tr>\n",
       "      <th>max</th>\n",
       "      <td>1460.000000</td>\n",
       "      <td>190.000000</td>\n",
       "      <td>313.000000</td>\n",
       "      <td>215245.000000</td>\n",
       "      <td>10.000000</td>\n",
       "      <td>9.000000</td>\n",
       "      <td>2010.000000</td>\n",
       "      <td>2010.000000</td>\n",
       "      <td>1600.000000</td>\n",
       "      <td>5644.000000</td>\n",
       "      <td>...</td>\n",
       "      <td>857.000000</td>\n",
       "      <td>547.000000</td>\n",
       "      <td>552.000000</td>\n",
       "      <td>508.000000</td>\n",
       "      <td>480.000000</td>\n",
       "      <td>738.000000</td>\n",
       "      <td>15500.000000</td>\n",
       "      <td>12.000000</td>\n",
       "      <td>2010.000000</td>\n",
       "      <td>755000.000000</td>\n",
       "    </tr>\n",
       "  </tbody>\n",
       "</table>\n",
       "<p>8 rows × 38 columns</p>\n",
       "</div>"
      ],
      "text/plain": [
       "                Id   MSSubClass  LotFrontage        LotArea  OverallQual  \\\n",
       "count  1460.000000  1460.000000  1201.000000    1460.000000  1460.000000   \n",
       "mean    730.500000    56.897260    70.049958   10516.828082     6.099315   \n",
       "std     421.610009    42.300571    24.284752    9981.264932     1.382997   \n",
       "min       1.000000    20.000000    21.000000    1300.000000     1.000000   \n",
       "25%     365.750000    20.000000    59.000000    7553.500000     5.000000   \n",
       "50%     730.500000    50.000000    69.000000    9478.500000     6.000000   \n",
       "75%    1095.250000    70.000000    80.000000   11601.500000     7.000000   \n",
       "max    1460.000000   190.000000   313.000000  215245.000000    10.000000   \n",
       "\n",
       "       OverallCond    YearBuilt  YearRemodAdd   MasVnrArea   BsmtFinSF1  ...  \\\n",
       "count  1460.000000  1460.000000   1460.000000  1452.000000  1460.000000  ...   \n",
       "mean      5.575342  1971.267808   1984.865753   103.685262   443.639726  ...   \n",
       "std       1.112799    30.202904     20.645407   181.066207   456.098091  ...   \n",
       "min       1.000000  1872.000000   1950.000000     0.000000     0.000000  ...   \n",
       "25%       5.000000  1954.000000   1967.000000     0.000000     0.000000  ...   \n",
       "50%       5.000000  1973.000000   1994.000000     0.000000   383.500000  ...   \n",
       "75%       6.000000  2000.000000   2004.000000   166.000000   712.250000  ...   \n",
       "max       9.000000  2010.000000   2010.000000  1600.000000  5644.000000  ...   \n",
       "\n",
       "        WoodDeckSF  OpenPorchSF  EnclosedPorch    3SsnPorch  ScreenPorch  \\\n",
       "count  1460.000000  1460.000000    1460.000000  1460.000000  1460.000000   \n",
       "mean     94.244521    46.660274      21.954110     3.409589    15.060959   \n",
       "std     125.338794    66.256028      61.119149    29.317331    55.757415   \n",
       "min       0.000000     0.000000       0.000000     0.000000     0.000000   \n",
       "25%       0.000000     0.000000       0.000000     0.000000     0.000000   \n",
       "50%       0.000000    25.000000       0.000000     0.000000     0.000000   \n",
       "75%     168.000000    68.000000       0.000000     0.000000     0.000000   \n",
       "max     857.000000   547.000000     552.000000   508.000000   480.000000   \n",
       "\n",
       "          PoolArea       MiscVal       MoSold       YrSold      SalePrice  \n",
       "count  1460.000000   1460.000000  1460.000000  1460.000000    1460.000000  \n",
       "mean      2.758904     43.489041     6.321918  2007.815753  180921.195890  \n",
       "std      40.177307    496.123024     2.703626     1.328095   79442.502883  \n",
       "min       0.000000      0.000000     1.000000  2006.000000   34900.000000  \n",
       "25%       0.000000      0.000000     5.000000  2007.000000  129975.000000  \n",
       "50%       0.000000      0.000000     6.000000  2008.000000  163000.000000  \n",
       "75%       0.000000      0.000000     8.000000  2009.000000  214000.000000  \n",
       "max     738.000000  15500.000000    12.000000  2010.000000  755000.000000  \n",
       "\n",
       "[8 rows x 38 columns]"
      ]
     },
     "execution_count": 6,
     "metadata": {},
     "output_type": "execute_result"
    }
   ],
   "source": [
    "#Check Statistics\n",
    "df.describe()"
   ]
  },
  {
   "cell_type": "markdown",
   "id": "f8fe9650",
   "metadata": {},
   "source": [
    "# EDA # "
   ]
  },
  {
   "cell_type": "markdown",
   "id": "9e306a02",
   "metadata": {},
   "source": [
    "### Data Cleaning"
   ]
  },
  {
   "cell_type": "code",
   "execution_count": 7,
   "id": "a46a32d8",
   "metadata": {},
   "outputs": [
    {
     "data": {
      "text/plain": [
       "{'Id': 0,\n",
       " 'MSSubClass': 0,\n",
       " 'MSZoning': 0,\n",
       " 'LotFrontage': 259,\n",
       " 'LotArea': 0,\n",
       " 'Street': 0,\n",
       " 'Alley': 1369,\n",
       " 'LotShape': 0,\n",
       " 'LandContour': 0,\n",
       " 'Utilities': 0,\n",
       " 'LotConfig': 0,\n",
       " 'LandSlope': 0,\n",
       " 'Neighborhood': 0,\n",
       " 'Condition1': 0,\n",
       " 'Condition2': 0,\n",
       " 'BldgType': 0,\n",
       " 'HouseStyle': 0,\n",
       " 'OverallQual': 0,\n",
       " 'OverallCond': 0,\n",
       " 'YearBuilt': 0,\n",
       " 'YearRemodAdd': 0,\n",
       " 'RoofStyle': 0,\n",
       " 'RoofMatl': 0,\n",
       " 'Exterior1st': 0,\n",
       " 'Exterior2nd': 0,\n",
       " 'MasVnrType': 8,\n",
       " 'MasVnrArea': 8,\n",
       " 'ExterQual': 0,\n",
       " 'ExterCond': 0,\n",
       " 'Foundation': 0,\n",
       " 'BsmtQual': 37,\n",
       " 'BsmtCond': 37,\n",
       " 'BsmtExposure': 38,\n",
       " 'BsmtFinType1': 37,\n",
       " 'BsmtFinSF1': 0,\n",
       " 'BsmtFinType2': 38,\n",
       " 'BsmtFinSF2': 0,\n",
       " 'BsmtUnfSF': 0,\n",
       " 'TotalBsmtSF': 0,\n",
       " 'Heating': 0,\n",
       " 'HeatingQC': 0,\n",
       " 'CentralAir': 0,\n",
       " 'Electrical': 1,\n",
       " '1stFlrSF': 0,\n",
       " '2ndFlrSF': 0,\n",
       " 'LowQualFinSF': 0,\n",
       " 'GrLivArea': 0,\n",
       " 'BsmtFullBath': 0,\n",
       " 'BsmtHalfBath': 0,\n",
       " 'FullBath': 0,\n",
       " 'HalfBath': 0,\n",
       " 'BedroomAbvGr': 0,\n",
       " 'KitchenAbvGr': 0,\n",
       " 'KitchenQual': 0,\n",
       " 'TotRmsAbvGrd': 0,\n",
       " 'Functional': 0,\n",
       " 'Fireplaces': 0,\n",
       " 'FireplaceQu': 690,\n",
       " 'GarageType': 81,\n",
       " 'GarageYrBlt': 81,\n",
       " 'GarageFinish': 81,\n",
       " 'GarageCars': 0,\n",
       " 'GarageArea': 0,\n",
       " 'GarageQual': 81,\n",
       " 'GarageCond': 81,\n",
       " 'PavedDrive': 0,\n",
       " 'WoodDeckSF': 0,\n",
       " 'OpenPorchSF': 0,\n",
       " 'EnclosedPorch': 0,\n",
       " '3SsnPorch': 0,\n",
       " 'ScreenPorch': 0,\n",
       " 'PoolArea': 0,\n",
       " 'PoolQC': 1453,\n",
       " 'Fence': 1179,\n",
       " 'MiscFeature': 1406,\n",
       " 'MiscVal': 0,\n",
       " 'MoSold': 0,\n",
       " 'YrSold': 0,\n",
       " 'SaleType': 0,\n",
       " 'SaleCondition': 0,\n",
       " 'SalePrice': 0}"
      ]
     },
     "execution_count": 7,
     "metadata": {},
     "output_type": "execute_result"
    }
   ],
   "source": [
    "#identification null values by column\n",
    "df.isnull().sum().to_dict()"
   ]
  },
  {
   "cell_type": "code",
   "execution_count": 8,
   "id": "5827c625",
   "metadata": {},
   "outputs": [],
   "source": [
    "# Dropping columns that have substantial number of null values\n",
    "df.drop(['LotFrontage','Alley','FireplaceQu','PoolQC','Fence','MiscFeature'],axis=1,inplace=True)"
   ]
  },
  {
   "cell_type": "code",
   "execution_count": 9,
   "id": "89403772",
   "metadata": {},
   "outputs": [],
   "source": [
    "# Dropping ID \n",
    "df.drop('Id',axis=1,inplace=True)"
   ]
  },
  {
   "cell_type": "code",
   "execution_count": 10,
   "id": "9731fc66",
   "metadata": {},
   "outputs": [],
   "source": [
    "# Drop duplicates\n",
    "df.drop_duplicates(inplace=True)"
   ]
  },
  {
   "cell_type": "code",
   "execution_count": 11,
   "id": "d612009e",
   "metadata": {},
   "outputs": [
    {
     "data": {
      "text/plain": [
       "(1460, 74)"
      ]
     },
     "execution_count": 11,
     "metadata": {},
     "output_type": "execute_result"
    }
   ],
   "source": [
    "# chaeck shape\n",
    "df.shape"
   ]
  },
  {
   "cell_type": "code",
   "execution_count": 12,
   "id": "5bed6990",
   "metadata": {},
   "outputs": [
    {
     "data": {
      "text/plain": [
       "[('MasVnrType', \"<class 'str'>\"),\n",
       " ('MasVnrArea', \"<class 'numpy.float64'>\"),\n",
       " ('BsmtQual', \"<class 'str'>\"),\n",
       " ('BsmtCond', \"<class 'str'>\"),\n",
       " ('BsmtExposure', \"<class 'str'>\"),\n",
       " ('BsmtFinType1', \"<class 'str'>\"),\n",
       " ('BsmtFinType2', \"<class 'str'>\"),\n",
       " ('Electrical', \"<class 'str'>\"),\n",
       " ('GarageType', \"<class 'str'>\"),\n",
       " ('GarageYrBlt', \"<class 'numpy.float64'>\"),\n",
       " ('GarageFinish', \"<class 'str'>\"),\n",
       " ('GarageQual', \"<class 'str'>\"),\n",
       " ('GarageCond', \"<class 'str'>\")]"
      ]
     },
     "execution_count": 12,
     "metadata": {},
     "output_type": "execute_result"
    }
   ],
   "source": [
    "# Identify null columns and ther data type\n",
    "null_columns=[(k,str(type(df[k].values[0]))) for k,v in df.isnull().sum().to_dict().items() if v!=0]\n",
    "null_columns"
   ]
  },
  {
   "cell_type": "code",
   "execution_count": 13,
   "id": "cfddb561",
   "metadata": {},
   "outputs": [],
   "source": [
    "# Saperate Categorical & Numerical Null columns\n",
    "categorical_null_columns=[]\n",
    "numerical_null_columns=[]\n",
    "for x in null_columns:\n",
    "    if x[1]==\"<class 'str'>\":\n",
    "        categorical_null_columns.append(x[0])\n",
    "    else:\n",
    "        numerical_null_columns.append(x[0])"
   ]
  },
  {
   "cell_type": "code",
   "execution_count": 14,
   "id": "656ff255",
   "metadata": {},
   "outputs": [],
   "source": [
    "# Fill numerical null values with median\n",
    "for column in numerical_null_columns:\n",
    "    df[column].fillna(df[column].median(),inplace=True)"
   ]
  },
  {
   "cell_type": "code",
   "execution_count": 15,
   "id": "800a03e2",
   "metadata": {},
   "outputs": [],
   "source": [
    "# Fill categorical null values with mode\n",
    "for column in categorical_null_columns:\n",
    "    df[column].fillna(df[column].mode()[0],inplace=True)"
   ]
  },
  {
   "cell_type": "code",
   "execution_count": 16,
   "id": "d8e15362",
   "metadata": {},
   "outputs": [
    {
     "data": {
      "text/plain": [
       "0"
      ]
     },
     "execution_count": 16,
     "metadata": {},
     "output_type": "execute_result"
    }
   ],
   "source": [
    "# Check if we have any null values\n",
    "df.isnull().sum().sum()"
   ]
  },
  {
   "cell_type": "code",
   "execution_count": 17,
   "id": "aa6535df",
   "metadata": {},
   "outputs": [
    {
     "data": {
      "text/plain": [
       "(1460, 74)"
      ]
     },
     "execution_count": 17,
     "metadata": {},
     "output_type": "execute_result"
    }
   ],
   "source": [
    "# Check shape\n",
    "df.shape"
   ]
  },
  {
   "cell_type": "code",
   "execution_count": 18,
   "id": "365f5001",
   "metadata": {},
   "outputs": [
    {
     "name": "stdout",
     "output_type": "stream",
     "text": [
      "AllPub    1459\n",
      "NoSeWa       1\n",
      "Name: Utilities, dtype: int64\n",
      "Pave    1454\n",
      "Grvl       6\n",
      "Name: Street, dtype: int64\n",
      "0      1453\n",
      "512       1\n",
      "648       1\n",
      "576       1\n",
      "555       1\n",
      "480       1\n",
      "519       1\n",
      "738       1\n",
      "Name: PoolArea, dtype: int64\n"
     ]
    }
   ],
   "source": [
    "# Check the unique values for Utilities,Street,PoolArea\n",
    "print(df['Utilities'].value_counts())\n",
    "print(df['Street'].value_counts())\n",
    "print(df['PoolArea'].value_counts())"
   ]
  },
  {
   "cell_type": "code",
   "execution_count": 19,
   "id": "bfd73026",
   "metadata": {},
   "outputs": [],
   "source": [
    "# Dropping redundant columns\n",
    "df.drop(['Street', 'Utilities', 'PoolArea'],axis=1,inplace=True)"
   ]
  },
  {
   "cell_type": "markdown",
   "id": "8802308f",
   "metadata": {},
   "source": [
    "# Data Visualization"
   ]
  },
  {
   "cell_type": "markdown",
   "id": "034b2f70",
   "metadata": {},
   "source": [
    "# Univariate and Bivariate Analysis"
   ]
  },
  {
   "cell_type": "code",
   "execution_count": 20,
   "id": "09d9f3c4",
   "metadata": {},
   "outputs": [
    {
     "name": "stderr",
     "output_type": "stream",
     "text": [
      "C:\\Users\\bhanuprakash.d\\Anaconda3\\lib\\site-packages\\seaborn\\distributions.py:2619: FutureWarning: `distplot` is a deprecated function and will be removed in a future version. Please adapt your code to use either `displot` (a figure-level function with similar flexibility) or `histplot` (an axes-level function for histograms).\n",
      "  warnings.warn(msg, FutureWarning)\n"
     ]
    },
    {
     "data": {
      "text/plain": [
       "<AxesSubplot:xlabel='SalePrice', ylabel='Density'>"
      ]
     },
     "execution_count": 20,
     "metadata": {},
     "output_type": "execute_result"
    },
    {
     "data": {
      "image/png": "[encoded data removed]",
      "text/plain": [
       "<Figure size 432x288 with 1 Axes>"
      ]
     },
     "metadata": {
      "needs_background": "light"
     },
     "output_type": "display_data"
    }
   ],
   "source": [
    "# Plot Saleprice\n",
    "sns.distplot(df.SalePrice)"
   ]
  },
  {
   "cell_type": "markdown",
   "id": "cae19c1d",
   "metadata": {},
   "source": [
    "**Observation** <br>The distribution plot shows Saleprice is right skewed "
   ]
  },
  {
   "cell_type": "code",
   "execution_count": 21,
   "id": "57a034b5",
   "metadata": {},
   "outputs": [
    {
     "data": {
      "text/plain": [
       "Text(0.5, 1.0, 'Basement Condition')"
      ]
     },
     "execution_count": 21,
     "metadata": {},
     "output_type": "execute_result"
    },
    {
     "data": {
      "image/png": "[encoded data removed]",
      "text/plain": [
       "<Figure size 432x288 with 1 Axes>"
      ]
     },
     "metadata": {
      "needs_background": "light"
     },
     "output_type": "display_data"
    }
   ],
   "source": [
    "## Checking Basement counts\n",
    "sns.countplot(x='BsmtCond', data= df)\n",
    "plt.title('Basement Condition')"
   ]
  },
  {
   "cell_type": "markdown",
   "id": "65d57c8a",
   "metadata": {},
   "source": [
    "**Observation** <br>The Countplot shows most of the houses has Typical (80-89 inches) height of the basement"
   ]
  },
  {
   "cell_type": "code",
   "execution_count": 22,
   "id": "2b4ac681",
   "metadata": {},
   "outputs": [
    {
     "data": {
      "image/png": "[encoded data removed]",
      "text/plain": [
       "<Figure size 432x288 with 1 Axes>"
      ]
     },
     "metadata": {
      "needs_background": "light"
     },
     "output_type": "display_data"
    }
   ],
   "source": [
    "#plot MasVnrArea vs Saleprice\n",
    "plt.scatter(df.MasVnrArea,df.SalePrice)\n",
    "plt.xlabel(\"Masonry veneer area\")\n",
    "plt.ylabel(\"Sale price\")\n",
    "plt.title(\"MasVnrArea vs Saleprice\")\n",
    "plt.show()"
   ]
  },
  {
   "cell_type": "markdown",
   "id": "cdbee379",
   "metadata": {},
   "source": [
    "**Observation** <br>The scatter plot shows most of the masonary veneer area lies between 0 and 500 . Th plot shows sale price increases as veneer area increases"
   ]
  },
  {
   "cell_type": "code",
   "execution_count": 23,
   "id": "93327e80",
   "metadata": {},
   "outputs": [
    {
     "data": {
      "text/plain": [
       "Text(0.5, 1.0, 'Overall Condition')"
      ]
     },
     "execution_count": 23,
     "metadata": {},
     "output_type": "execute_result"
    },
    {
     "data": {
      "image/png": "[encoded data removed]",
      "text/plain": [
       "<Figure size 432x288 with 1 Axes>"
      ]
     },
     "metadata": {
      "needs_background": "light"
     },
     "output_type": "display_data"
    }
   ],
   "source": [
    "#plot Overall Condition\n",
    "sns.countplot(x='OverallCond', data= df)\n",
    "plt.title('Overall Condition')"
   ]
  },
  {
   "cell_type": "markdown",
   "id": "9dd1f7a4",
   "metadata": {},
   "source": [
    "**Observation** <br>The Countplot shows Overall rating  of house condition is given mostly 5 ratings out of 10"
   ]
  },
  {
   "cell_type": "code",
   "execution_count": 24,
   "id": "f3748f21",
   "metadata": {},
   "outputs": [
    {
     "data": {
      "text/plain": [
       "Text(0.5, 1.0, 'Overall Quality vs SalePrice')"
      ]
     },
     "execution_count": 24,
     "metadata": {},
     "output_type": "execute_result"
    },
    {
     "data": {
      "image/png": "[encoded data removed]",
      "text/plain": [
       "<Figure size 432x288 with 1 Axes>"
      ]
     },
     "metadata": {
      "needs_background": "light"
     },
     "output_type": "display_data"
    }
   ],
   "source": [
    "#plot Overall Quality vs SalePrice\n",
    "sns.boxplot(x='OverallQual', y='SalePrice', data=df)\n",
    "plt.title(\"Overall Quality vs SalePrice\")"
   ]
  },
  {
   "cell_type": "markdown",
   "id": "72f8158b",
   "metadata": {},
   "source": [
    "**Observation** <br>The boxplot shows overall quality increases as saleprice increases"
   ]
  },
  {
   "cell_type": "markdown",
   "id": "e39eab27",
   "metadata": {},
   "source": [
    "# Multivariate Analysis"
   ]
  },
  {
   "cell_type": "code",
   "execution_count": 25,
   "id": "5c0fa809",
   "metadata": {},
   "outputs": [
    {
     "data": {
      "image/png": "[encoded data removed]",
      "text/plain": [
       "<Figure size 1260x1260 with 56 Axes>"
      ]
     },
     "metadata": {
      "needs_background": "light"
     },
     "output_type": "display_data"
    }
   ],
   "source": [
    "#scatterplot\n",
    "cols = ['SalePrice', 'OverallQual', 'GrLivArea', 'GarageCars', 'TotalBsmtSF', 'FullBath', 'YearBuilt']\n",
    "sns.pairplot(df[cols])\n",
    "plt.show()"
   ]
  },
  {
   "cell_type": "markdown",
   "id": "c3eac58f",
   "metadata": {},
   "source": [
    "**Observation** <br>The Pairplot shows saleprice has linear relationship with overallquality, Garden living area,TotalBsmtSF,yearbuilt"
   ]
  },
  {
   "cell_type": "code",
   "execution_count": 26,
   "id": "b112ef28",
   "metadata": {},
   "outputs": [
    {
     "data": {
      "image/png": "[encoded data removed]",
      "text/plain": [
       "<Figure size 1152x1152 with 2 Axes>"
      ]
     },
     "metadata": {
      "needs_background": "light"
     },
     "output_type": "display_data"
    }
   ],
   "source": [
    "plt.figure(figsize=(16,16))\n",
    "sns.heatmap(df.corr(),annot=False)\n",
    "plt.show()"
   ]
  },
  {
   "cell_type": "markdown",
   "id": "a9d71110",
   "metadata": {},
   "source": [
    "**Observation** <br>The Countplot shows there are some high correlations"
   ]
  },
  {
   "cell_type": "markdown",
   "id": "44a22497",
   "metadata": {},
   "source": [
    "# Data Transformations"
   ]
  },
  {
   "cell_type": "code",
   "execution_count": 27,
   "id": "3eb8b7ab",
   "metadata": {},
   "outputs": [],
   "source": [
    "# Creating a new Column to determine the age of the property\n",
    "df['age']=df['YrSold']-df['YearBuilt']\n",
    "df['garage_age'] = df['YrSold'] - df['GarageYrBlt']\n",
    "df['remodel_age'] = df['YrSold'] - df['YearRemodAdd']\n",
    "\n",
    "df.drop('GarageYrBlt',axis=1,inplace=True)"
   ]
  },
  {
   "cell_type": "code",
   "execution_count": 28,
   "id": "3858fdc3",
   "metadata": {},
   "outputs": [],
   "source": [
    "#Converting a Binary varible into numeric datatypes\n",
    "# mapping it to 0 and 1\n",
    "\n",
    "df['CentralAir'] = df['CentralAir'].apply(lambda x : 1 if x == 'Y' else 0)\n",
    "                                                  \n",
    "df['PavedDrive'] = df['PavedDrive'].apply(lambda x : 1 if x == 'Y' else 0)   "
   ]
  },
  {
   "cell_type": "code",
   "execution_count": 29,
   "id": "1f27bf7c",
   "metadata": {},
   "outputs": [
    {
     "data": {
      "text/plain": [
       "array(['MSSubClass', 'LotArea', 'OverallQual', 'OverallCond', 'YearBuilt',\n",
       "       'YearRemodAdd', 'MasVnrArea', 'BsmtFinSF1', 'BsmtFinSF2',\n",
       "       'BsmtUnfSF', 'TotalBsmtSF', 'CentralAir', '1stFlrSF', '2ndFlrSF',\n",
       "       'LowQualFinSF', 'GrLivArea', 'BsmtFullBath', 'BsmtHalfBath',\n",
       "       'FullBath', 'HalfBath', 'BedroomAbvGr', 'KitchenAbvGr',\n",
       "       'TotRmsAbvGrd', 'Fireplaces', 'GarageCars', 'GarageArea',\n",
       "       'PavedDrive', 'WoodDeckSF', 'OpenPorchSF', 'EnclosedPorch',\n",
       "       '3SsnPorch', 'ScreenPorch', 'MiscVal', 'MoSold', 'YrSold',\n",
       "       'SalePrice', 'age', 'garage_age', 'remodel_age'], dtype=object)"
      ]
     },
     "execution_count": 29,
     "metadata": {},
     "output_type": "execute_result"
    }
   ],
   "source": [
    "# Get Numerical columns\n",
    "numerics = ['int16', 'int32', 'int64', 'float16', 'float32', 'float64']\n",
    "numerical_features = df.select_dtypes(include = numerics).columns.values\n",
    "numerical_features"
   ]
  },
  {
   "cell_type": "code",
   "execution_count": 30,
   "id": "e61d2814",
   "metadata": {},
   "outputs": [
    {
     "data": {
      "text/plain": [
       "array(['MSZoning', 'LotShape', 'LandContour', 'LotConfig', 'LandSlope',\n",
       "       'Neighborhood', 'Condition1', 'Condition2', 'BldgType',\n",
       "       'HouseStyle', 'RoofStyle', 'RoofMatl', 'Exterior1st',\n",
       "       'Exterior2nd', 'MasVnrType', 'ExterQual', 'ExterCond',\n",
       "       'Foundation', 'BsmtQual', 'BsmtCond', 'BsmtExposure',\n",
       "       'BsmtFinType1', 'BsmtFinType2', 'Heating', 'HeatingQC',\n",
       "       'Electrical', 'KitchenQual', 'Functional', 'GarageType',\n",
       "       'GarageFinish', 'GarageQual', 'GarageCond', 'SaleType',\n",
       "       'SaleCondition'], dtype=object)"
      ]
     },
     "execution_count": 30,
     "metadata": {},
     "output_type": "execute_result"
    }
   ],
   "source": [
    "# Get Categorical columns\n",
    "categorical_features = df.select_dtypes(exclude = numerics).columns.values\n",
    "categorical_features"
   ]
  },
  {
   "cell_type": "code",
   "execution_count": 31,
   "id": "d0a829bf",
   "metadata": {},
   "outputs": [],
   "source": [
    "#Remove outliers\n",
    "z = np.abs(stats.zscore(df[numerical_features]))\n",
    "selected = df[numerical_features][(z < 3).all(axis=1)]\n",
    "df = df.loc[selected.index]"
   ]
  },
  {
   "cell_type": "code",
   "execution_count": 32,
   "id": "b9dcf8a7",
   "metadata": {},
   "outputs": [],
   "source": [
    "# Creating dummies for categorical variables\n",
    "dummies=pd.get_dummies(df[categorical_features],drop_first=True)"
   ]
  },
  {
   "cell_type": "code",
   "execution_count": 33,
   "id": "4a22380e",
   "metadata": {},
   "outputs": [],
   "source": [
    "# Drop Categorical columns\n",
    "df.drop(categorical_features,axis=1,inplace=True)"
   ]
  },
  {
   "cell_type": "code",
   "execution_count": 34,
   "id": "aa91be9e",
   "metadata": {},
   "outputs": [],
   "source": [
    "# Concatenate original dataframe and dummies\n",
    "df_final=pd.concat([df,dummies],axis=1)"
   ]
  },
  {
   "cell_type": "code",
   "execution_count": 35,
   "id": "18460b58",
   "metadata": {},
   "outputs": [
    {
     "data": {
      "text/html": [
       "<div>\n",
       "<style scoped>\n",
       "    .dataframe tbody tr th:only-of-type {\n",
       "        vertical-align: middle;\n",
       "    }\n",
       "\n",
       "    .dataframe tbody tr th {\n",
       "        vertical-align: top;\n",
       "    }\n",
       "\n",
       "    .dataframe thead th {\n",
       "        text-align: right;\n",
       "    }\n",
       "</style>\n",
       "<table border=\"1\" class=\"dataframe\">\n",
       "  <thead>\n",
       "    <tr style=\"text-align: right;\">\n",
       "      <th></th>\n",
       "      <th>MSSubClass</th>\n",
       "      <th>LotArea</th>\n",
       "      <th>OverallQual</th>\n",
       "      <th>OverallCond</th>\n",
       "      <th>YearBuilt</th>\n",
       "      <th>YearRemodAdd</th>\n",
       "      <th>MasVnrArea</th>\n",
       "      <th>BsmtFinSF1</th>\n",
       "      <th>BsmtFinSF2</th>\n",
       "      <th>BsmtUnfSF</th>\n",
       "      <th>...</th>\n",
       "      <th>SaleType_ConLD</th>\n",
       "      <th>SaleType_ConLI</th>\n",
       "      <th>SaleType_ConLw</th>\n",
       "      <th>SaleType_New</th>\n",
       "      <th>SaleType_Oth</th>\n",
       "      <th>SaleType_WD</th>\n",
       "      <th>SaleCondition_Alloca</th>\n",
       "      <th>SaleCondition_Family</th>\n",
       "      <th>SaleCondition_Normal</th>\n",
       "      <th>SaleCondition_Partial</th>\n",
       "    </tr>\n",
       "  </thead>\n",
       "  <tbody>\n",
       "    <tr>\n",
       "      <th>0</th>\n",
       "      <td>60</td>\n",
       "      <td>8450</td>\n",
       "      <td>7</td>\n",
       "      <td>5</td>\n",
       "      <td>2003</td>\n",
       "      <td>2003</td>\n",
       "      <td>196.0</td>\n",
       "      <td>706</td>\n",
       "      <td>0</td>\n",
       "      <td>150</td>\n",
       "      <td>...</td>\n",
       "      <td>0</td>\n",
       "      <td>0</td>\n",
       "      <td>0</td>\n",
       "      <td>0</td>\n",
       "      <td>0</td>\n",
       "      <td>1</td>\n",
       "      <td>0</td>\n",
       "      <td>0</td>\n",
       "      <td>1</td>\n",
       "      <td>0</td>\n",
       "    </tr>\n",
       "    <tr>\n",
       "      <th>2</th>\n",
       "      <td>60</td>\n",
       "      <td>11250</td>\n",
       "      <td>7</td>\n",
       "      <td>5</td>\n",
       "      <td>2001</td>\n",
       "      <td>2002</td>\n",
       "      <td>162.0</td>\n",
       "      <td>486</td>\n",
       "      <td>0</td>\n",
       "      <td>434</td>\n",
       "      <td>...</td>\n",
       "      <td>0</td>\n",
       "      <td>0</td>\n",
       "      <td>0</td>\n",
       "      <td>0</td>\n",
       "      <td>0</td>\n",
       "      <td>1</td>\n",
       "      <td>0</td>\n",
       "      <td>0</td>\n",
       "      <td>1</td>\n",
       "      <td>0</td>\n",
       "    </tr>\n",
       "    <tr>\n",
       "      <th>4</th>\n",
       "      <td>60</td>\n",
       "      <td>14260</td>\n",
       "      <td>8</td>\n",
       "      <td>5</td>\n",
       "      <td>2000</td>\n",
       "      <td>2000</td>\n",
       "      <td>350.0</td>\n",
       "      <td>655</td>\n",
       "      <td>0</td>\n",
       "      <td>490</td>\n",
       "      <td>...</td>\n",
       "      <td>0</td>\n",
       "      <td>0</td>\n",
       "      <td>0</td>\n",
       "      <td>0</td>\n",
       "      <td>0</td>\n",
       "      <td>1</td>\n",
       "      <td>0</td>\n",
       "      <td>0</td>\n",
       "      <td>1</td>\n",
       "      <td>0</td>\n",
       "    </tr>\n",
       "    <tr>\n",
       "      <th>6</th>\n",
       "      <td>20</td>\n",
       "      <td>10084</td>\n",
       "      <td>8</td>\n",
       "      <td>5</td>\n",
       "      <td>2004</td>\n",
       "      <td>2005</td>\n",
       "      <td>186.0</td>\n",
       "      <td>1369</td>\n",
       "      <td>0</td>\n",
       "      <td>317</td>\n",
       "      <td>...</td>\n",
       "      <td>0</td>\n",
       "      <td>0</td>\n",
       "      <td>0</td>\n",
       "      <td>0</td>\n",
       "      <td>0</td>\n",
       "      <td>1</td>\n",
       "      <td>0</td>\n",
       "      <td>0</td>\n",
       "      <td>1</td>\n",
       "      <td>0</td>\n",
       "    </tr>\n",
       "    <tr>\n",
       "      <th>10</th>\n",
       "      <td>20</td>\n",
       "      <td>11200</td>\n",
       "      <td>5</td>\n",
       "      <td>5</td>\n",
       "      <td>1965</td>\n",
       "      <td>1965</td>\n",
       "      <td>0.0</td>\n",
       "      <td>906</td>\n",
       "      <td>0</td>\n",
       "      <td>134</td>\n",
       "      <td>...</td>\n",
       "      <td>0</td>\n",
       "      <td>0</td>\n",
       "      <td>0</td>\n",
       "      <td>0</td>\n",
       "      <td>0</td>\n",
       "      <td>1</td>\n",
       "      <td>0</td>\n",
       "      <td>0</td>\n",
       "      <td>1</td>\n",
       "      <td>0</td>\n",
       "    </tr>\n",
       "    <tr>\n",
       "      <th>...</th>\n",
       "      <td>...</td>\n",
       "      <td>...</td>\n",
       "      <td>...</td>\n",
       "      <td>...</td>\n",
       "      <td>...</td>\n",
       "      <td>...</td>\n",
       "      <td>...</td>\n",
       "      <td>...</td>\n",
       "      <td>...</td>\n",
       "      <td>...</td>\n",
       "      <td>...</td>\n",
       "      <td>...</td>\n",
       "      <td>...</td>\n",
       "      <td>...</td>\n",
       "      <td>...</td>\n",
       "      <td>...</td>\n",
       "      <td>...</td>\n",
       "      <td>...</td>\n",
       "      <td>...</td>\n",
       "      <td>...</td>\n",
       "      <td>...</td>\n",
       "    </tr>\n",
       "    <tr>\n",
       "      <th>1452</th>\n",
       "      <td>180</td>\n",
       "      <td>3675</td>\n",
       "      <td>5</td>\n",
       "      <td>5</td>\n",
       "      <td>2005</td>\n",
       "      <td>2005</td>\n",
       "      <td>80.0</td>\n",
       "      <td>547</td>\n",
       "      <td>0</td>\n",
       "      <td>0</td>\n",
       "      <td>...</td>\n",
       "      <td>0</td>\n",
       "      <td>0</td>\n",
       "      <td>0</td>\n",
       "      <td>0</td>\n",
       "      <td>0</td>\n",
       "      <td>1</td>\n",
       "      <td>0</td>\n",
       "      <td>0</td>\n",
       "      <td>1</td>\n",
       "      <td>0</td>\n",
       "    </tr>\n",
       "    <tr>\n",
       "      <th>1453</th>\n",
       "      <td>20</td>\n",
       "      <td>17217</td>\n",
       "      <td>5</td>\n",
       "      <td>5</td>\n",
       "      <td>2006</td>\n",
       "      <td>2006</td>\n",
       "      <td>0.0</td>\n",
       "      <td>0</td>\n",
       "      <td>0</td>\n",
       "      <td>1140</td>\n",
       "      <td>...</td>\n",
       "      <td>0</td>\n",
       "      <td>0</td>\n",
       "      <td>0</td>\n",
       "      <td>0</td>\n",
       "      <td>0</td>\n",
       "      <td>1</td>\n",
       "      <td>0</td>\n",
       "      <td>0</td>\n",
       "      <td>0</td>\n",
       "      <td>0</td>\n",
       "    </tr>\n",
       "    <tr>\n",
       "      <th>1454</th>\n",
       "      <td>20</td>\n",
       "      <td>7500</td>\n",
       "      <td>7</td>\n",
       "      <td>5</td>\n",
       "      <td>2004</td>\n",
       "      <td>2005</td>\n",
       "      <td>0.0</td>\n",
       "      <td>410</td>\n",
       "      <td>0</td>\n",
       "      <td>811</td>\n",
       "      <td>...</td>\n",
       "      <td>0</td>\n",
       "      <td>0</td>\n",
       "      <td>0</td>\n",
       "      <td>0</td>\n",
       "      <td>0</td>\n",
       "      <td>1</td>\n",
       "      <td>0</td>\n",
       "      <td>0</td>\n",
       "      <td>1</td>\n",
       "      <td>0</td>\n",
       "    </tr>\n",
       "    <tr>\n",
       "      <th>1455</th>\n",
       "      <td>60</td>\n",
       "      <td>7917</td>\n",
       "      <td>6</td>\n",
       "      <td>5</td>\n",
       "      <td>1999</td>\n",
       "      <td>2000</td>\n",
       "      <td>0.0</td>\n",
       "      <td>0</td>\n",
       "      <td>0</td>\n",
       "      <td>953</td>\n",
       "      <td>...</td>\n",
       "      <td>0</td>\n",
       "      <td>0</td>\n",
       "      <td>0</td>\n",
       "      <td>0</td>\n",
       "      <td>0</td>\n",
       "      <td>1</td>\n",
       "      <td>0</td>\n",
       "      <td>0</td>\n",
       "      <td>1</td>\n",
       "      <td>0</td>\n",
       "    </tr>\n",
       "    <tr>\n",
       "      <th>1456</th>\n",
       "      <td>20</td>\n",
       "      <td>13175</td>\n",
       "      <td>6</td>\n",
       "      <td>6</td>\n",
       "      <td>1978</td>\n",
       "      <td>1988</td>\n",
       "      <td>119.0</td>\n",
       "      <td>790</td>\n",
       "      <td>163</td>\n",
       "      <td>589</td>\n",
       "      <td>...</td>\n",
       "      <td>0</td>\n",
       "      <td>0</td>\n",
       "      <td>0</td>\n",
       "      <td>0</td>\n",
       "      <td>0</td>\n",
       "      <td>1</td>\n",
       "      <td>0</td>\n",
       "      <td>0</td>\n",
       "      <td>1</td>\n",
       "      <td>0</td>\n",
       "    </tr>\n",
       "  </tbody>\n",
       "</table>\n",
       "<p>928 rows × 198 columns</p>\n",
       "</div>"
      ],
      "text/plain": [
       "      MSSubClass  LotArea  OverallQual  OverallCond  YearBuilt  YearRemodAdd  \\\n",
       "0             60     8450            7            5       2003          2003   \n",
       "2             60    11250            7            5       2001          2002   \n",
       "4             60    14260            8            5       2000          2000   \n",
       "6             20    10084            8            5       2004          2005   \n",
       "10            20    11200            5            5       1965          1965   \n",
       "...          ...      ...          ...          ...        ...           ...   \n",
       "1452         180     3675            5            5       2005          2005   \n",
       "1453          20    17217            5            5       2006          2006   \n",
       "1454          20     7500            7            5       2004          2005   \n",
       "1455          60     7917            6            5       1999          2000   \n",
       "1456          20    13175            6            6       1978          1988   \n",
       "\n",
       "      MasVnrArea  BsmtFinSF1  BsmtFinSF2  BsmtUnfSF  ...  SaleType_ConLD  \\\n",
       "0          196.0         706           0        150  ...               0   \n",
       "2          162.0         486           0        434  ...               0   \n",
       "4          350.0         655           0        490  ...               0   \n",
       "6          186.0        1369           0        317  ...               0   \n",
       "10           0.0         906           0        134  ...               0   \n",
       "...          ...         ...         ...        ...  ...             ...   \n",
       "1452        80.0         547           0          0  ...               0   \n",
       "1453         0.0           0           0       1140  ...               0   \n",
       "1454         0.0         410           0        811  ...               0   \n",
       "1455         0.0           0           0        953  ...               0   \n",
       "1456       119.0         790         163        589  ...               0   \n",
       "\n",
       "      SaleType_ConLI  SaleType_ConLw  SaleType_New  SaleType_Oth  SaleType_WD  \\\n",
       "0                  0               0             0             0            1   \n",
       "2                  0               0             0             0            1   \n",
       "4                  0               0             0             0            1   \n",
       "6                  0               0             0             0            1   \n",
       "10                 0               0             0             0            1   \n",
       "...              ...             ...           ...           ...          ...   \n",
       "1452               0               0             0             0            1   \n",
       "1453               0               0             0             0            1   \n",
       "1454               0               0             0             0            1   \n",
       "1455               0               0             0             0            1   \n",
       "1456               0               0             0             0            1   \n",
       "\n",
       "      SaleCondition_Alloca  SaleCondition_Family  SaleCondition_Normal  \\\n",
       "0                        0                     0                     1   \n",
       "2                        0                     0                     1   \n",
       "4                        0                     0                     1   \n",
       "6                        0                     0                     1   \n",
       "10                       0                     0                     1   \n",
       "...                    ...                   ...                   ...   \n",
       "1452                     0                     0                     1   \n",
       "1453                     0                     0                     0   \n",
       "1454                     0                     0                     1   \n",
       "1455                     0                     0                     1   \n",
       "1456                     0                     0                     1   \n",
       "\n",
       "      SaleCondition_Partial  \n",
       "0                         0  \n",
       "2                         0  \n",
       "4                         0  \n",
       "6                         0  \n",
       "10                        0  \n",
       "...                     ...  \n",
       "1452                      0  \n",
       "1453                      0  \n",
       "1454                      0  \n",
       "1455                      0  \n",
       "1456                      0  \n",
       "\n",
       "[928 rows x 198 columns]"
      ]
     },
     "execution_count": 35,
     "metadata": {},
     "output_type": "execute_result"
    }
   ],
   "source": [
    "# Final Data frame\n",
    "df_final"
   ]
  },
  {
   "cell_type": "code",
   "execution_count": 36,
   "id": "8f58e051",
   "metadata": {},
   "outputs": [],
   "source": [
    "# Split train & test data\n",
    "df_train, df_test = train_test_split(df_final, train_size = 0.8, test_size = 0.2, random_state = 1)"
   ]
  },
  {
   "cell_type": "code",
   "execution_count": 37,
   "id": "25285842",
   "metadata": {},
   "outputs": [
    {
     "data": {
      "text/plain": [
       "(742, 198)"
      ]
     },
     "execution_count": 37,
     "metadata": {},
     "output_type": "execute_result"
    }
   ],
   "source": [
    "# Check shape of train set\n",
    "df_train.shape"
   ]
  },
  {
   "cell_type": "code",
   "execution_count": 38,
   "id": "5db33aa9",
   "metadata": {},
   "outputs": [
    {
     "data": {
      "text/plain": [
       "(186, 198)"
      ]
     },
     "execution_count": 38,
     "metadata": {},
     "output_type": "execute_result"
    }
   ],
   "source": [
    "# Check shape of test set\n",
    "df_test.shape"
   ]
  },
  {
   "cell_type": "code",
   "execution_count": 39,
   "id": "5951219e",
   "metadata": {},
   "outputs": [
    {
     "name": "stderr",
     "output_type": "stream",
     "text": [
      "C:\\Users\\BHANUP~1.D\\AppData\\Local\\Temp/ipykernel_13824/1185804508.py:3: FutureWarning: In a future version of pandas all arguments of DataFrame.drop except for the argument 'labels' will be keyword-only\n",
      "  X_train = df_train.drop(\"SalePrice\",1)\n",
      "C:\\Users\\BHANUP~1.D\\AppData\\Local\\Temp/ipykernel_13824/1185804508.py:6: FutureWarning: In a future version of pandas all arguments of DataFrame.drop except for the argument 'labels' will be keyword-only\n",
      "  X_test = df_test.drop(\"SalePrice\",1)\n"
     ]
    }
   ],
   "source": [
    "#Split train & test sets \n",
    "y_train = df_train.SalePrice\n",
    "X_train = df_train.drop(\"SalePrice\",1)\n",
    "\n",
    "y_test= df_test.SalePrice\n",
    "X_test = df_test.drop(\"SalePrice\",1)"
   ]
  },
  {
   "cell_type": "code",
   "execution_count": 40,
   "id": "68848862",
   "metadata": {},
   "outputs": [],
   "source": [
    "#Transforming the Target feature to make the data gaussian\n",
    "pt = PowerTransformer(method='box-cox', standardize=False)\n",
    "y_train = pt.fit_transform(y_train.to_frame())\n",
    "y_test = pt.transform(y_test.to_frame())"
   ]
  },
  {
   "cell_type": "code",
   "execution_count": 41,
   "id": "34b3e915",
   "metadata": {},
   "outputs": [],
   "source": [
    "# Scaling numerical data\n",
    "num_values=X_train.select_dtypes(include=['int64','float64']).columns\n",
    "scaler = StandardScaler()\n",
    "X_train[num_values] = scaler.fit_transform(X_train[num_values])\n",
    "X_test[num_values] = scaler.transform(X_test[num_values])"
   ]
  },
  {
   "cell_type": "markdown",
   "id": "225b05cf",
   "metadata": {},
   "source": [
    "# Linear Regression with RFE"
   ]
  },
  {
   "cell_type": "code",
   "execution_count": 42,
   "id": "74de8c0d",
   "metadata": {},
   "outputs": [
    {
     "data": {
      "text/plain": [
       "LinearRegression()"
      ]
     },
     "execution_count": 42,
     "metadata": {},
     "output_type": "execute_result"
    }
   ],
   "source": [
    "# linear regression with all predictors\n",
    "lm = LinearRegression()\n",
    "lm.fit(X_train, y_train)"
   ]
  },
  {
   "cell_type": "code",
   "execution_count": 43,
   "id": "0edbf8a4",
   "metadata": {},
   "outputs": [
    {
     "name": "stderr",
     "output_type": "stream",
     "text": [
      "C:\\Users\\bhanuprakash.d\\Anaconda3\\lib\\site-packages\\sklearn\\utils\\validation.py:67: FutureWarning: Pass n_features_to_select=20 as keyword args. From version 0.25 passing these as positional arguments will result in an error\n",
      "  warnings.warn(\"Pass {} as keyword args. From version 0.25 \"\n"
     ]
    }
   ],
   "source": [
    "# Calculating the RFE\n",
    "rfe = RFE(lm, 20)\n",
    "rfe = rfe.fit(X_train, y_train)"
   ]
  },
  {
   "cell_type": "code",
   "execution_count": 44,
   "id": "905f00b7",
   "metadata": {},
   "outputs": [
    {
     "data": {
      "text/plain": [
       "Index(['1stFlrSF', '2ndFlrSF', 'MSZoning_FV', 'MSZoning_RH', 'MSZoning_RL',\n",
       "       'MSZoning_RM', 'Neighborhood_MeadowV', 'RoofStyle_Mansard',\n",
       "       'RoofMatl_WdShake', 'Exterior1st_ImStucc', 'ExterQual_Fa',\n",
       "       'ExterQual_Gd', 'ExterQual_TA', 'KitchenQual_Fa', 'Functional_Typ',\n",
       "       'GarageType_CarPort', 'SaleType_CWD', 'SaleType_Con', 'SaleType_ConLI',\n",
       "       'SaleCondition_Alloca'],\n",
       "      dtype='object')"
      ]
     },
     "execution_count": 44,
     "metadata": {},
     "output_type": "execute_result"
    }
   ],
   "source": [
    "# Check top 20 selected columns\n",
    "col=X_train.columns[rfe.support_]\n",
    "col"
   ]
  },
  {
   "cell_type": "code",
   "execution_count": 45,
   "id": "d435d8b3",
   "metadata": {},
   "outputs": [
    {
     "data": {
      "text/html": [
       "<table class=\"simpletable\">\n",
       "<caption>OLS Regression Results</caption>\n",
       "<tr>\n",
       "  <th>Dep. Variable:</th>            <td>y</td>        <th>  R-squared:         </th> <td>   0.837</td> \n",
       "</tr>\n",
       "<tr>\n",
       "  <th>Model:</th>                   <td>OLS</td>       <th>  Adj. R-squared:    </th> <td>   0.832</td> \n",
       "</tr>\n",
       "<tr>\n",
       "  <th>Method:</th>             <td>Least Squares</td>  <th>  F-statistic:       </th> <td>   185.0</td> \n",
       "</tr>\n",
       "<tr>\n",
       "  <th>Date:</th>             <td>Wed, 06 Apr 2022</td> <th>  Prob (F-statistic):</th> <td>7.83e-268</td>\n",
       "</tr>\n",
       "<tr>\n",
       "  <th>Time:</th>                 <td>13:10:06</td>     <th>  Log-Likelihood:    </th> <td>  1163.2</td> \n",
       "</tr>\n",
       "<tr>\n",
       "  <th>No. Observations:</th>      <td>   742</td>      <th>  AIC:               </th> <td>  -2284.</td> \n",
       "</tr>\n",
       "<tr>\n",
       "  <th>Df Residuals:</th>          <td>   721</td>      <th>  BIC:               </th> <td>  -2188.</td> \n",
       "</tr>\n",
       "<tr>\n",
       "  <th>Df Model:</th>              <td>    20</td>      <th>                     </th>     <td> </td>    \n",
       "</tr>\n",
       "<tr>\n",
       "  <th>Covariance Type:</th>      <td>nonrobust</td>    <th>                     </th>     <td> </td>    \n",
       "</tr>\n",
       "</table>\n",
       "<table class=\"simpletable\">\n",
       "<tr>\n",
       "            <td></td>              <th>coef</th>     <th>std err</th>      <th>t</th>      <th>P>|t|</th>  <th>[0.025</th>    <th>0.975]</th>  \n",
       "</tr>\n",
       "<tr>\n",
       "  <th>const</th>                <td>    7.4333</td> <td>    0.054</td> <td>  138.503</td> <td> 0.000</td> <td>    7.328</td> <td>    7.539</td>\n",
       "</tr>\n",
       "<tr>\n",
       "  <th>1stFlrSF</th>             <td>    0.0772</td> <td>    0.003</td> <td>   30.276</td> <td> 0.000</td> <td>    0.072</td> <td>    0.082</td>\n",
       "</tr>\n",
       "<tr>\n",
       "  <th>2ndFlrSF</th>             <td>    0.0602</td> <td>    0.002</td> <td>   26.742</td> <td> 0.000</td> <td>    0.056</td> <td>    0.065</td>\n",
       "</tr>\n",
       "<tr>\n",
       "  <th>MSZoning_FV</th>          <td>    0.2620</td> <td>    0.052</td> <td>    5.055</td> <td> 0.000</td> <td>    0.160</td> <td>    0.364</td>\n",
       "</tr>\n",
       "<tr>\n",
       "  <th>MSZoning_RH</th>          <td>    0.2301</td> <td>    0.056</td> <td>    4.100</td> <td> 0.000</td> <td>    0.120</td> <td>    0.340</td>\n",
       "</tr>\n",
       "<tr>\n",
       "  <th>MSZoning_RL</th>          <td>    0.2435</td> <td>    0.051</td> <td>    4.744</td> <td> 0.000</td> <td>    0.143</td> <td>    0.344</td>\n",
       "</tr>\n",
       "<tr>\n",
       "  <th>MSZoning_RM</th>          <td>    0.2013</td> <td>    0.052</td> <td>    3.904</td> <td> 0.000</td> <td>    0.100</td> <td>    0.303</td>\n",
       "</tr>\n",
       "<tr>\n",
       "  <th>Neighborhood_MeadowV</th> <td>   -0.0599</td> <td>    0.015</td> <td>   -4.104</td> <td> 0.000</td> <td>   -0.089</td> <td>   -0.031</td>\n",
       "</tr>\n",
       "<tr>\n",
       "  <th>RoofStyle_Mansard</th>    <td>    0.0639</td> <td>    0.052</td> <td>    1.229</td> <td> 0.219</td> <td>   -0.038</td> <td>    0.166</td>\n",
       "</tr>\n",
       "<tr>\n",
       "  <th>RoofMatl_WdShake</th>     <td>   -0.2684</td> <td>    0.074</td> <td>   -3.650</td> <td> 0.000</td> <td>   -0.413</td> <td>   -0.124</td>\n",
       "</tr>\n",
       "<tr>\n",
       "  <th>Exterior1st_ImStucc</th>  <td>    0.0416</td> <td>    0.051</td> <td>    0.810</td> <td> 0.418</td> <td>   -0.059</td> <td>    0.142</td>\n",
       "</tr>\n",
       "<tr>\n",
       "  <th>ExterQual_Fa</th>         <td>   -0.2392</td> <td>    0.040</td> <td>   -5.991</td> <td> 0.000</td> <td>   -0.318</td> <td>   -0.161</td>\n",
       "</tr>\n",
       "<tr>\n",
       "  <th>ExterQual_Gd</th>         <td>   -0.0794</td> <td>    0.013</td> <td>   -6.132</td> <td> 0.000</td> <td>   -0.105</td> <td>   -0.054</td>\n",
       "</tr>\n",
       "<tr>\n",
       "  <th>ExterQual_TA</th>         <td>   -0.1499</td> <td>    0.013</td> <td>  -11.140</td> <td> 0.000</td> <td>   -0.176</td> <td>   -0.123</td>\n",
       "</tr>\n",
       "<tr>\n",
       "  <th>KitchenQual_Fa</th>       <td>   -0.0547</td> <td>    0.019</td> <td>   -2.898</td> <td> 0.004</td> <td>   -0.092</td> <td>   -0.018</td>\n",
       "</tr>\n",
       "<tr>\n",
       "  <th>Functional_Typ</th>       <td>    0.0773</td> <td>    0.009</td> <td>    8.668</td> <td> 0.000</td> <td>    0.060</td> <td>    0.095</td>\n",
       "</tr>\n",
       "<tr>\n",
       "  <th>GarageType_CarPort</th>   <td>    0.1316</td> <td>    0.072</td> <td>    1.817</td> <td> 0.070</td> <td>   -0.011</td> <td>    0.274</td>\n",
       "</tr>\n",
       "<tr>\n",
       "  <th>SaleType_CWD</th>         <td>    0.0864</td> <td>    0.036</td> <td>    2.369</td> <td> 0.018</td> <td>    0.015</td> <td>    0.158</td>\n",
       "</tr>\n",
       "<tr>\n",
       "  <th>SaleType_Con</th>         <td>    0.1078</td> <td>    0.052</td> <td>    2.078</td> <td> 0.038</td> <td>    0.006</td> <td>    0.210</td>\n",
       "</tr>\n",
       "<tr>\n",
       "  <th>SaleType_ConLI</th>       <td>   -0.0597</td> <td>    0.030</td> <td>   -2.010</td> <td> 0.045</td> <td>   -0.118</td> <td>   -0.001</td>\n",
       "</tr>\n",
       "<tr>\n",
       "  <th>SaleCondition_Alloca</th> <td>   -0.1332</td> <td>    0.052</td> <td>   -2.581</td> <td> 0.010</td> <td>   -0.234</td> <td>   -0.032</td>\n",
       "</tr>\n",
       "</table>\n",
       "<table class=\"simpletable\">\n",
       "<tr>\n",
       "  <th>Omnibus:</th>       <td>91.211</td> <th>  Durbin-Watson:     </th> <td>   2.021</td>\n",
       "</tr>\n",
       "<tr>\n",
       "  <th>Prob(Omnibus):</th> <td> 0.000</td> <th>  Jarque-Bera (JB):  </th> <td> 295.739</td>\n",
       "</tr>\n",
       "<tr>\n",
       "  <th>Skew:</th>          <td>-0.573</td> <th>  Prob(JB):          </th> <td>6.04e-65</td>\n",
       "</tr>\n",
       "<tr>\n",
       "  <th>Kurtosis:</th>      <td> 5.873</td> <th>  Cond. No.          </th> <td>    120.</td>\n",
       "</tr>\n",
       "</table><br/><br/>Notes:<br/>[1] Standard Errors assume that the covariance matrix of the errors is correctly specified."
      ],
      "text/plain": [
       "<class 'statsmodels.iolib.summary.Summary'>\n",
       "\"\"\"\n",
       "                            OLS Regression Results                            \n",
       "==============================================================================\n",
       "Dep. Variable:                      y   R-squared:                       0.837\n",
       "Model:                            OLS   Adj. R-squared:                  0.832\n",
       "Method:                 Least Squares   F-statistic:                     185.0\n",
       "Date:                Wed, 06 Apr 2022   Prob (F-statistic):          7.83e-268\n",
       "Time:                        13:10:06   Log-Likelihood:                 1163.2\n",
       "No. Observations:                 742   AIC:                            -2284.\n",
       "Df Residuals:                     721   BIC:                            -2188.\n",
       "Df Model:                          20                                         \n",
       "Covariance Type:            nonrobust                                         \n",
       "========================================================================================\n",
       "                           coef    std err          t      P>|t|      [0.025      0.975]\n",
       "----------------------------------------------------------------------------------------\n",
       "const                    7.4333      0.054    138.503      0.000       7.328       7.539\n",
       "1stFlrSF                 0.0772      0.003     30.276      0.000       0.072       0.082\n",
       "2ndFlrSF                 0.0602      0.002     26.742      0.000       0.056       0.065\n",
       "MSZoning_FV              0.2620      0.052      5.055      0.000       0.160       0.364\n",
       "MSZoning_RH              0.2301      0.056      4.100      0.000       0.120       0.340\n",
       "MSZoning_RL              0.2435      0.051      4.744      0.000       0.143       0.344\n",
       "MSZoning_RM              0.2013      0.052      3.904      0.000       0.100       0.303\n",
       "Neighborhood_MeadowV    -0.0599      0.015     -4.104      0.000      -0.089      -0.031\n",
       "RoofStyle_Mansard        0.0639      0.052      1.229      0.219      -0.038       0.166\n",
       "RoofMatl_WdShake        -0.2684      0.074     -3.650      0.000      -0.413      -0.124\n",
       "Exterior1st_ImStucc      0.0416      0.051      0.810      0.418      -0.059       0.142\n",
       "ExterQual_Fa            -0.2392      0.040     -5.991      0.000      -0.318      -0.161\n",
       "ExterQual_Gd            -0.0794      0.013     -6.132      0.000      -0.105      -0.054\n",
       "ExterQual_TA            -0.1499      0.013    -11.140      0.000      -0.176      -0.123\n",
       "KitchenQual_Fa          -0.0547      0.019     -2.898      0.004      -0.092      -0.018\n",
       "Functional_Typ           0.0773      0.009      8.668      0.000       0.060       0.095\n",
       "GarageType_CarPort       0.1316      0.072      1.817      0.070      -0.011       0.274\n",
       "SaleType_CWD             0.0864      0.036      2.369      0.018       0.015       0.158\n",
       "SaleType_Con             0.1078      0.052      2.078      0.038       0.006       0.210\n",
       "SaleType_ConLI          -0.0597      0.030     -2.010      0.045      -0.118      -0.001\n",
       "SaleCondition_Alloca    -0.1332      0.052     -2.581      0.010      -0.234      -0.032\n",
       "==============================================================================\n",
       "Omnibus:                       91.211   Durbin-Watson:                   2.021\n",
       "Prob(Omnibus):                  0.000   Jarque-Bera (JB):              295.739\n",
       "Skew:                          -0.573   Prob(JB):                     6.04e-65\n",
       "Kurtosis:                       5.873   Cond. No.                         120.\n",
       "==============================================================================\n",
       "\n",
       "Notes:\n",
       "[1] Standard Errors assume that the covariance matrix of the errors is correctly specified.\n",
       "\"\"\""
      ]
     },
     "execution_count": 45,
     "metadata": {},
     "output_type": "execute_result"
    }
   ],
   "source": [
    "#create first model\n",
    "\n",
    "X_train_rfe=X_train[col]\n",
    "X_train_new = sm.add_constant(X_train_rfe)\n",
    "\n",
    "lr=sm.OLS(y_train,X_train_new)\n",
    "\n",
    "#fit the model\n",
    "lr_model=lr.fit()\n",
    "\n",
    "#Print the summary \n",
    "lr_model.summary()"
   ]
  },
  {
   "cell_type": "code",
   "execution_count": 46,
   "id": "b94664e6",
   "metadata": {},
   "outputs": [],
   "source": [
    "#Dropping columns with high p values\n",
    "X_train_rfe=X_train_rfe.drop(['SaleCondition_Alloca','SaleType_CWD','SaleType_Con','SaleType_ConLI','Exterior1st_ImStucc','GarageType_CarPort','RoofStyle_Mansard'],axis=1)"
   ]
  },
  {
   "cell_type": "code",
   "execution_count": 47,
   "id": "ec670fd8",
   "metadata": {},
   "outputs": [
    {
     "data": {
      "text/html": [
       "<table class=\"simpletable\">\n",
       "<caption>OLS Regression Results</caption>\n",
       "<tr>\n",
       "  <th>Dep. Variable:</th>            <td>y</td>        <th>  R-squared:         </th> <td>   0.831</td> \n",
       "</tr>\n",
       "<tr>\n",
       "  <th>Model:</th>                   <td>OLS</td>       <th>  Adj. R-squared:    </th> <td>   0.828</td> \n",
       "</tr>\n",
       "<tr>\n",
       "  <th>Method:</th>             <td>Least Squares</td>  <th>  F-statistic:       </th> <td>   275.4</td> \n",
       "</tr>\n",
       "<tr>\n",
       "  <th>Date:</th>             <td>Wed, 06 Apr 2022</td> <th>  Prob (F-statistic):</th> <td>1.38e-270</td>\n",
       "</tr>\n",
       "<tr>\n",
       "  <th>Time:</th>                 <td>13:10:06</td>     <th>  Log-Likelihood:    </th> <td>  1150.0</td> \n",
       "</tr>\n",
       "<tr>\n",
       "  <th>No. Observations:</th>      <td>   742</td>      <th>  AIC:               </th> <td>  -2272.</td> \n",
       "</tr>\n",
       "<tr>\n",
       "  <th>Df Residuals:</th>          <td>   728</td>      <th>  BIC:               </th> <td>  -2208.</td> \n",
       "</tr>\n",
       "<tr>\n",
       "  <th>Df Model:</th>              <td>    13</td>      <th>                     </th>     <td> </td>    \n",
       "</tr>\n",
       "<tr>\n",
       "  <th>Covariance Type:</th>      <td>nonrobust</td>    <th>                     </th>     <td> </td>    \n",
       "</tr>\n",
       "</table>\n",
       "<table class=\"simpletable\">\n",
       "<tr>\n",
       "            <td></td>              <th>coef</th>     <th>std err</th>      <th>t</th>      <th>P>|t|</th>  <th>[0.025</th>    <th>0.975]</th>  \n",
       "</tr>\n",
       "<tr>\n",
       "  <th>const</th>                <td>    7.4995</td> <td>    0.040</td> <td>  186.682</td> <td> 0.000</td> <td>    7.421</td> <td>    7.578</td>\n",
       "</tr>\n",
       "<tr>\n",
       "  <th>1stFlrSF</th>             <td>    0.0776</td> <td>    0.003</td> <td>   30.239</td> <td> 0.000</td> <td>    0.073</td> <td>    0.083</td>\n",
       "</tr>\n",
       "<tr>\n",
       "  <th>2ndFlrSF</th>             <td>    0.0606</td> <td>    0.002</td> <td>   26.609</td> <td> 0.000</td> <td>    0.056</td> <td>    0.065</td>\n",
       "</tr>\n",
       "<tr>\n",
       "  <th>MSZoning_FV</th>          <td>    0.2003</td> <td>    0.038</td> <td>    5.335</td> <td> 0.000</td> <td>    0.127</td> <td>    0.274</td>\n",
       "</tr>\n",
       "<tr>\n",
       "  <th>MSZoning_RH</th>          <td>    0.1644</td> <td>    0.043</td> <td>    3.787</td> <td> 0.000</td> <td>    0.079</td> <td>    0.250</td>\n",
       "</tr>\n",
       "<tr>\n",
       "  <th>MSZoning_RL</th>          <td>    0.1776</td> <td>    0.037</td> <td>    4.823</td> <td> 0.000</td> <td>    0.105</td> <td>    0.250</td>\n",
       "</tr>\n",
       "<tr>\n",
       "  <th>MSZoning_RM</th>          <td>    0.1338</td> <td>    0.037</td> <td>    3.597</td> <td> 0.000</td> <td>    0.061</td> <td>    0.207</td>\n",
       "</tr>\n",
       "<tr>\n",
       "  <th>Neighborhood_MeadowV</th> <td>   -0.0579</td> <td>    0.015</td> <td>   -3.918</td> <td> 0.000</td> <td>   -0.087</td> <td>   -0.029</td>\n",
       "</tr>\n",
       "<tr>\n",
       "  <th>RoofMatl_WdShake</th>     <td>   -0.2056</td> <td>    0.052</td> <td>   -3.919</td> <td> 0.000</td> <td>   -0.309</td> <td>   -0.103</td>\n",
       "</tr>\n",
       "<tr>\n",
       "  <th>ExterQual_Fa</th>         <td>   -0.2373</td> <td>    0.040</td> <td>   -5.869</td> <td> 0.000</td> <td>   -0.317</td> <td>   -0.158</td>\n",
       "</tr>\n",
       "<tr>\n",
       "  <th>ExterQual_Gd</th>         <td>   -0.0787</td> <td>    0.013</td> <td>   -6.003</td> <td> 0.000</td> <td>   -0.104</td> <td>   -0.053</td>\n",
       "</tr>\n",
       "<tr>\n",
       "  <th>ExterQual_TA</th>         <td>   -0.1483</td> <td>    0.014</td> <td>  -10.895</td> <td> 0.000</td> <td>   -0.175</td> <td>   -0.122</td>\n",
       "</tr>\n",
       "<tr>\n",
       "  <th>KitchenQual_Fa</th>       <td>   -0.0547</td> <td>    0.019</td> <td>   -2.862</td> <td> 0.004</td> <td>   -0.092</td> <td>   -0.017</td>\n",
       "</tr>\n",
       "<tr>\n",
       "  <th>Functional_Typ</th>       <td>    0.0757</td> <td>    0.009</td> <td>    8.494</td> <td> 0.000</td> <td>    0.058</td> <td>    0.093</td>\n",
       "</tr>\n",
       "</table>\n",
       "<table class=\"simpletable\">\n",
       "<tr>\n",
       "  <th>Omnibus:</th>       <td>84.451</td> <th>  Durbin-Watson:     </th> <td>   2.025</td>\n",
       "</tr>\n",
       "<tr>\n",
       "  <th>Prob(Omnibus):</th> <td> 0.000</td> <th>  Jarque-Bera (JB):  </th> <td> 248.088</td>\n",
       "</tr>\n",
       "<tr>\n",
       "  <th>Skew:</th>          <td>-0.558</td> <th>  Prob(JB):          </th> <td>1.34e-54</td>\n",
       "</tr>\n",
       "<tr>\n",
       "  <th>Kurtosis:</th>      <td> 5.603</td> <th>  Cond. No.          </th> <td>    76.9</td>\n",
       "</tr>\n",
       "</table><br/><br/>Notes:<br/>[1] Standard Errors assume that the covariance matrix of the errors is correctly specified."
      ],
      "text/plain": [
       "<class 'statsmodels.iolib.summary.Summary'>\n",
       "\"\"\"\n",
       "                            OLS Regression Results                            \n",
       "==============================================================================\n",
       "Dep. Variable:                      y   R-squared:                       0.831\n",
       "Model:                            OLS   Adj. R-squared:                  0.828\n",
       "Method:                 Least Squares   F-statistic:                     275.4\n",
       "Date:                Wed, 06 Apr 2022   Prob (F-statistic):          1.38e-270\n",
       "Time:                        13:10:06   Log-Likelihood:                 1150.0\n",
       "No. Observations:                 742   AIC:                            -2272.\n",
       "Df Residuals:                     728   BIC:                            -2208.\n",
       "Df Model:                          13                                         \n",
       "Covariance Type:            nonrobust                                         \n",
       "========================================================================================\n",
       "                           coef    std err          t      P>|t|      [0.025      0.975]\n",
       "----------------------------------------------------------------------------------------\n",
       "const                    7.4995      0.040    186.682      0.000       7.421       7.578\n",
       "1stFlrSF                 0.0776      0.003     30.239      0.000       0.073       0.083\n",
       "2ndFlrSF                 0.0606      0.002     26.609      0.000       0.056       0.065\n",
       "MSZoning_FV              0.2003      0.038      5.335      0.000       0.127       0.274\n",
       "MSZoning_RH              0.1644      0.043      3.787      0.000       0.079       0.250\n",
       "MSZoning_RL              0.1776      0.037      4.823      0.000       0.105       0.250\n",
       "MSZoning_RM              0.1338      0.037      3.597      0.000       0.061       0.207\n",
       "Neighborhood_MeadowV    -0.0579      0.015     -3.918      0.000      -0.087      -0.029\n",
       "RoofMatl_WdShake        -0.2056      0.052     -3.919      0.000      -0.309      -0.103\n",
       "ExterQual_Fa            -0.2373      0.040     -5.869      0.000      -0.317      -0.158\n",
       "ExterQual_Gd            -0.0787      0.013     -6.003      0.000      -0.104      -0.053\n",
       "ExterQual_TA            -0.1483      0.014    -10.895      0.000      -0.175      -0.122\n",
       "KitchenQual_Fa          -0.0547      0.019     -2.862      0.004      -0.092      -0.017\n",
       "Functional_Typ           0.0757      0.009      8.494      0.000       0.058       0.093\n",
       "==============================================================================\n",
       "Omnibus:                       84.451   Durbin-Watson:                   2.025\n",
       "Prob(Omnibus):                  0.000   Jarque-Bera (JB):              248.088\n",
       "Skew:                          -0.558   Prob(JB):                     1.34e-54\n",
       "Kurtosis:                       5.603   Cond. No.                         76.9\n",
       "==============================================================================\n",
       "\n",
       "Notes:\n",
       "[1] Standard Errors assume that the covariance matrix of the errors is correctly specified.\n",
       "\"\"\""
      ]
     },
     "execution_count": 47,
     "metadata": {},
     "output_type": "execute_result"
    }
   ],
   "source": [
    "#create second model\n",
    "X_train_new = sm.add_constant(X_train_rfe)\n",
    "\n",
    "lr=sm.OLS(y_train,X_train_new)\n",
    "\n",
    "#fit the model\n",
    "lr_model=lr.fit()\n",
    "\n",
    "#Print the summary \n",
    "lr_model.summary()"
   ]
  },
  {
   "cell_type": "code",
   "execution_count": 48,
   "id": "dd8288f9",
   "metadata": {},
   "outputs": [
    {
     "data": {
      "text/html": [
       "<div>\n",
       "<style scoped>\n",
       "    .dataframe tbody tr th:only-of-type {\n",
       "        vertical-align: middle;\n",
       "    }\n",
       "\n",
       "    .dataframe tbody tr th {\n",
       "        vertical-align: top;\n",
       "    }\n",
       "\n",
       "    .dataframe thead th {\n",
       "        text-align: right;\n",
       "    }\n",
       "</style>\n",
       "<table border=\"1\" class=\"dataframe\">\n",
       "  <thead>\n",
       "    <tr style=\"text-align: right;\">\n",
       "      <th></th>\n",
       "      <th>Features</th>\n",
       "      <th>VIF</th>\n",
       "    </tr>\n",
       "  </thead>\n",
       "  <tbody>\n",
       "    <tr>\n",
       "      <th>4</th>\n",
       "      <td>MSZoning_RL</td>\n",
       "      <td>48.83</td>\n",
       "    </tr>\n",
       "    <tr>\n",
       "      <th>10</th>\n",
       "      <td>ExterQual_TA</td>\n",
       "      <td>24.45</td>\n",
       "    </tr>\n",
       "    <tr>\n",
       "      <th>12</th>\n",
       "      <td>Functional_Typ</td>\n",
       "      <td>19.52</td>\n",
       "    </tr>\n",
       "    <tr>\n",
       "      <th>9</th>\n",
       "      <td>ExterQual_Gd</td>\n",
       "      <td>18.37</td>\n",
       "    </tr>\n",
       "  </tbody>\n",
       "</table>\n",
       "</div>"
      ],
      "text/plain": [
       "          Features    VIF\n",
       "4      MSZoning_RL  48.83\n",
       "10    ExterQual_TA  24.45\n",
       "12  Functional_Typ  19.52\n",
       "9     ExterQual_Gd  18.37"
      ]
     },
     "execution_count": 48,
     "metadata": {},
     "output_type": "execute_result"
    }
   ],
   "source": [
    "# Chekcing the VIF\n",
    "vif = pd.DataFrame()\n",
    "vif['Features'] = X_train_rfe.columns\n",
    "vif['VIF'] = [variance_inflation_factor(X_train_rfe.values, i) for i in range(X_train_rfe.shape[1])]\n",
    "vif['VIF'] = round(vif['VIF'], 2)\n",
    "vif = vif.sort_values(by = \"VIF\", ascending = False)\n",
    "high_vif = vif[vif['VIF']>10]\n",
    "high_vif"
   ]
  },
  {
   "cell_type": "code",
   "execution_count": 49,
   "id": "b9ad7c90",
   "metadata": {},
   "outputs": [
    {
     "data": {
      "text/html": [
       "<table class=\"simpletable\">\n",
       "<caption>OLS Regression Results</caption>\n",
       "<tr>\n",
       "  <th>Dep. Variable:</th>            <td>y</td>        <th>  R-squared:         </th> <td>   0.730</td> \n",
       "</tr>\n",
       "<tr>\n",
       "  <th>Model:</th>                   <td>OLS</td>       <th>  Adj. R-squared:    </th> <td>   0.727</td> \n",
       "</tr>\n",
       "<tr>\n",
       "  <th>Method:</th>             <td>Least Squares</td>  <th>  F-statistic:       </th> <td>   219.7</td> \n",
       "</tr>\n",
       "<tr>\n",
       "  <th>Date:</th>             <td>Wed, 06 Apr 2022</td> <th>  Prob (F-statistic):</th> <td>2.57e-201</td>\n",
       "</tr>\n",
       "<tr>\n",
       "  <th>Time:</th>                 <td>13:10:06</td>     <th>  Log-Likelihood:    </th> <td>  975.95</td> \n",
       "</tr>\n",
       "<tr>\n",
       "  <th>No. Observations:</th>      <td>   742</td>      <th>  AIC:               </th> <td>  -1932.</td> \n",
       "</tr>\n",
       "<tr>\n",
       "  <th>Df Residuals:</th>          <td>   732</td>      <th>  BIC:               </th> <td>  -1886.</td> \n",
       "</tr>\n",
       "<tr>\n",
       "  <th>Df Model:</th>              <td>     9</td>      <th>                     </th>     <td> </td>    \n",
       "</tr>\n",
       "<tr>\n",
       "  <th>Covariance Type:</th>      <td>nonrobust</td>    <th>                     </th>     <td> </td>    \n",
       "</tr>\n",
       "</table>\n",
       "<table class=\"simpletable\">\n",
       "<tr>\n",
       "            <td></td>              <th>coef</th>     <th>std err</th>      <th>t</th>      <th>P>|t|</th>  <th>[0.025</th>    <th>0.975]</th>  \n",
       "</tr>\n",
       "<tr>\n",
       "  <th>const</th>                <td>    7.6311</td> <td>    0.003</td> <td> 2788.855</td> <td> 0.000</td> <td>    7.626</td> <td>    7.636</td>\n",
       "</tr>\n",
       "<tr>\n",
       "  <th>1stFlrSF</th>             <td>    0.0943</td> <td>    0.003</td> <td>   33.260</td> <td> 0.000</td> <td>    0.089</td> <td>    0.100</td>\n",
       "</tr>\n",
       "<tr>\n",
       "  <th>2ndFlrSF</th>             <td>    0.0728</td> <td>    0.003</td> <td>   27.330</td> <td> 0.000</td> <td>    0.068</td> <td>    0.078</td>\n",
       "</tr>\n",
       "<tr>\n",
       "  <th>MSZoning_FV</th>          <td>    0.0663</td> <td>    0.009</td> <td>    7.050</td> <td> 0.000</td> <td>    0.048</td> <td>    0.085</td>\n",
       "</tr>\n",
       "<tr>\n",
       "  <th>MSZoning_RH</th>          <td>   -0.0136</td> <td>    0.029</td> <td>   -0.461</td> <td> 0.645</td> <td>   -0.071</td> <td>    0.044</td>\n",
       "</tr>\n",
       "<tr>\n",
       "  <th>MSZoning_RM</th>          <td>   -0.0474</td> <td>    0.009</td> <td>   -5.521</td> <td> 0.000</td> <td>   -0.064</td> <td>   -0.031</td>\n",
       "</tr>\n",
       "<tr>\n",
       "  <th>Neighborhood_MeadowV</th> <td>   -0.0567</td> <td>    0.019</td> <td>   -3.046</td> <td> 0.002</td> <td>   -0.093</td> <td>   -0.020</td>\n",
       "</tr>\n",
       "<tr>\n",
       "  <th>RoofMatl_WdShake</th>     <td>   -0.2225</td> <td>    0.066</td> <td>   -3.368</td> <td> 0.001</td> <td>   -0.352</td> <td>   -0.093</td>\n",
       "</tr>\n",
       "<tr>\n",
       "  <th>ExterQual_Fa</th>         <td>   -0.0830</td> <td>    0.048</td> <td>   -1.734</td> <td> 0.083</td> <td>   -0.177</td> <td>    0.011</td>\n",
       "</tr>\n",
       "<tr>\n",
       "  <th>KitchenQual_Fa</th>       <td>   -0.0812</td> <td>    0.024</td> <td>   -3.376</td> <td> 0.001</td> <td>   -0.128</td> <td>   -0.034</td>\n",
       "</tr>\n",
       "</table>\n",
       "<table class=\"simpletable\">\n",
       "<tr>\n",
       "  <th>Omnibus:</th>       <td>89.622</td> <th>  Durbin-Watson:     </th> <td>   1.928</td>\n",
       "</tr>\n",
       "<tr>\n",
       "  <th>Prob(Omnibus):</th> <td> 0.000</td> <th>  Jarque-Bera (JB):  </th> <td> 188.353</td>\n",
       "</tr>\n",
       "<tr>\n",
       "  <th>Skew:</th>          <td>-0.702</td> <th>  Prob(JB):          </th> <td>1.26e-41</td>\n",
       "</tr>\n",
       "<tr>\n",
       "  <th>Kurtosis:</th>      <td> 5.031</td> <th>  Cond. No.          </th> <td>    32.2</td>\n",
       "</tr>\n",
       "</table><br/><br/>Notes:<br/>[1] Standard Errors assume that the covariance matrix of the errors is correctly specified."
      ],
      "text/plain": [
       "<class 'statsmodels.iolib.summary.Summary'>\n",
       "\"\"\"\n",
       "                            OLS Regression Results                            \n",
       "==============================================================================\n",
       "Dep. Variable:                      y   R-squared:                       0.730\n",
       "Model:                            OLS   Adj. R-squared:                  0.727\n",
       "Method:                 Least Squares   F-statistic:                     219.7\n",
       "Date:                Wed, 06 Apr 2022   Prob (F-statistic):          2.57e-201\n",
       "Time:                        13:10:06   Log-Likelihood:                 975.95\n",
       "No. Observations:                 742   AIC:                            -1932.\n",
       "Df Residuals:                     732   BIC:                            -1886.\n",
       "Df Model:                           9                                         \n",
       "Covariance Type:            nonrobust                                         \n",
       "========================================================================================\n",
       "                           coef    std err          t      P>|t|      [0.025      0.975]\n",
       "----------------------------------------------------------------------------------------\n",
       "const                    7.6311      0.003   2788.855      0.000       7.626       7.636\n",
       "1stFlrSF                 0.0943      0.003     33.260      0.000       0.089       0.100\n",
       "2ndFlrSF                 0.0728      0.003     27.330      0.000       0.068       0.078\n",
       "MSZoning_FV              0.0663      0.009      7.050      0.000       0.048       0.085\n",
       "MSZoning_RH             -0.0136      0.029     -0.461      0.645      -0.071       0.044\n",
       "MSZoning_RM             -0.0474      0.009     -5.521      0.000      -0.064      -0.031\n",
       "Neighborhood_MeadowV    -0.0567      0.019     -3.046      0.002      -0.093      -0.020\n",
       "RoofMatl_WdShake        -0.2225      0.066     -3.368      0.001      -0.352      -0.093\n",
       "ExterQual_Fa            -0.0830      0.048     -1.734      0.083      -0.177       0.011\n",
       "KitchenQual_Fa          -0.0812      0.024     -3.376      0.001      -0.128      -0.034\n",
       "==============================================================================\n",
       "Omnibus:                       89.622   Durbin-Watson:                   1.928\n",
       "Prob(Omnibus):                  0.000   Jarque-Bera (JB):              188.353\n",
       "Skew:                          -0.702   Prob(JB):                     1.26e-41\n",
       "Kurtosis:                       5.031   Cond. No.                         32.2\n",
       "==============================================================================\n",
       "\n",
       "Notes:\n",
       "[1] Standard Errors assume that the covariance matrix of the errors is correctly specified.\n",
       "\"\"\""
      ]
     },
     "execution_count": 49,
     "metadata": {},
     "output_type": "execute_result"
    }
   ],
   "source": [
    "#Drop High VIF Features\n",
    "X_train_rfe=X_train_rfe.drop(['MSZoning_RL','ExterQual_TA','Functional_Typ','ExterQual_Gd'],axis=1)\n",
    "\n",
    "#create third model\n",
    "X_train_new = sm.add_constant(X_train_rfe)\n",
    "\n",
    "lr=sm.OLS(y_train,X_train_new)\n",
    "\n",
    "#fit the model\n",
    "lr_model=lr.fit()\n",
    "\n",
    "#Print the summary \n",
    "lr_model.summary()"
   ]
  },
  {
   "cell_type": "code",
   "execution_count": 50,
   "id": "d2dc8230",
   "metadata": {},
   "outputs": [
    {
     "data": {
      "text/html": [
       "<div>\n",
       "<style scoped>\n",
       "    .dataframe tbody tr th:only-of-type {\n",
       "        vertical-align: middle;\n",
       "    }\n",
       "\n",
       "    .dataframe tbody tr th {\n",
       "        vertical-align: top;\n",
       "    }\n",
       "\n",
       "    .dataframe thead th {\n",
       "        text-align: right;\n",
       "    }\n",
       "</style>\n",
       "<table border=\"1\" class=\"dataframe\">\n",
       "  <thead>\n",
       "    <tr style=\"text-align: right;\">\n",
       "      <th></th>\n",
       "      <th>Features</th>\n",
       "      <th>VIF</th>\n",
       "    </tr>\n",
       "  </thead>\n",
       "  <tbody>\n",
       "  </tbody>\n",
       "</table>\n",
       "</div>"
      ],
      "text/plain": [
       "Empty DataFrame\n",
       "Columns: [Features, VIF]\n",
       "Index: []"
      ]
     },
     "execution_count": 50,
     "metadata": {},
     "output_type": "execute_result"
    }
   ],
   "source": [
    "# Chekcing the VIF\n",
    "vif = pd.DataFrame()\n",
    "vif['Features'] = X_train_rfe.columns\n",
    "vif['VIF'] = [variance_inflation_factor(X_train_rfe.values, i) for i in range(X_train_rfe.shape[1])]\n",
    "vif['VIF'] = round(vif['VIF'], 2)\n",
    "vif = vif.sort_values(by = \"VIF\", ascending = False)\n",
    "high_vif = vif[vif['VIF']>5]\n",
    "high_vif"
   ]
  },
  {
   "cell_type": "code",
   "execution_count": 51,
   "id": "1f1f8ac0",
   "metadata": {},
   "outputs": [
    {
     "data": {
      "text/html": [
       "<table class=\"simpletable\">\n",
       "<caption>OLS Regression Results</caption>\n",
       "<tr>\n",
       "  <th>Dep. Variable:</th>            <td>y</td>        <th>  R-squared:         </th> <td>   0.729</td> \n",
       "</tr>\n",
       "<tr>\n",
       "  <th>Model:</th>                   <td>OLS</td>       <th>  Adj. R-squared:    </th> <td>   0.726</td> \n",
       "</tr>\n",
       "<tr>\n",
       "  <th>Method:</th>             <td>Least Squares</td>  <th>  F-statistic:       </th> <td>   281.6</td> \n",
       "</tr>\n",
       "<tr>\n",
       "  <th>Date:</th>             <td>Wed, 06 Apr 2022</td> <th>  Prob (F-statistic):</th> <td>4.49e-203</td>\n",
       "</tr>\n",
       "<tr>\n",
       "  <th>Time:</th>                 <td>13:10:06</td>     <th>  Log-Likelihood:    </th> <td>  974.33</td> \n",
       "</tr>\n",
       "<tr>\n",
       "  <th>No. Observations:</th>      <td>   742</td>      <th>  AIC:               </th> <td>  -1933.</td> \n",
       "</tr>\n",
       "<tr>\n",
       "  <th>Df Residuals:</th>          <td>   734</td>      <th>  BIC:               </th> <td>  -1896.</td> \n",
       "</tr>\n",
       "<tr>\n",
       "  <th>Df Model:</th>              <td>     7</td>      <th>                     </th>     <td> </td>    \n",
       "</tr>\n",
       "<tr>\n",
       "  <th>Covariance Type:</th>      <td>nonrobust</td>    <th>                     </th>     <td> </td>    \n",
       "</tr>\n",
       "</table>\n",
       "<table class=\"simpletable\">\n",
       "<tr>\n",
       "            <td></td>              <th>coef</th>     <th>std err</th>      <th>t</th>      <th>P>|t|</th>  <th>[0.025</th>    <th>0.975]</th>  \n",
       "</tr>\n",
       "<tr>\n",
       "  <th>const</th>                <td>    7.6308</td> <td>    0.003</td> <td> 2803.537</td> <td> 0.000</td> <td>    7.625</td> <td>    7.636</td>\n",
       "</tr>\n",
       "<tr>\n",
       "  <th>1stFlrSF</th>             <td>    0.0947</td> <td>    0.003</td> <td>   33.533</td> <td> 0.000</td> <td>    0.089</td> <td>    0.100</td>\n",
       "</tr>\n",
       "<tr>\n",
       "  <th>2ndFlrSF</th>             <td>    0.0729</td> <td>    0.003</td> <td>   27.433</td> <td> 0.000</td> <td>    0.068</td> <td>    0.078</td>\n",
       "</tr>\n",
       "<tr>\n",
       "  <th>MSZoning_FV</th>          <td>    0.0667</td> <td>    0.009</td> <td>    7.090</td> <td> 0.000</td> <td>    0.048</td> <td>    0.085</td>\n",
       "</tr>\n",
       "<tr>\n",
       "  <th>MSZoning_RM</th>          <td>   -0.0466</td> <td>    0.009</td> <td>   -5.434</td> <td> 0.000</td> <td>   -0.063</td> <td>   -0.030</td>\n",
       "</tr>\n",
       "<tr>\n",
       "  <th>Neighborhood_MeadowV</th> <td>   -0.0566</td> <td>    0.019</td> <td>   -3.038</td> <td> 0.002</td> <td>   -0.093</td> <td>   -0.020</td>\n",
       "</tr>\n",
       "<tr>\n",
       "  <th>RoofMatl_WdShake</th>     <td>   -0.2234</td> <td>    0.066</td> <td>   -3.379</td> <td> 0.001</td> <td>   -0.353</td> <td>   -0.094</td>\n",
       "</tr>\n",
       "<tr>\n",
       "  <th>KitchenQual_Fa</th>       <td>   -0.0912</td> <td>    0.023</td> <td>   -3.905</td> <td> 0.000</td> <td>   -0.137</td> <td>   -0.045</td>\n",
       "</tr>\n",
       "</table>\n",
       "<table class=\"simpletable\">\n",
       "<tr>\n",
       "  <th>Omnibus:</th>       <td>90.133</td> <th>  Durbin-Watson:     </th> <td>   1.933</td>\n",
       "</tr>\n",
       "<tr>\n",
       "  <th>Prob(Omnibus):</th> <td> 0.000</td> <th>  Jarque-Bera (JB):  </th> <td> 187.449</td>\n",
       "</tr>\n",
       "<tr>\n",
       "  <th>Skew:</th>          <td>-0.709</td> <th>  Prob(JB):          </th> <td>1.98e-41</td>\n",
       "</tr>\n",
       "<tr>\n",
       "  <th>Kurtosis:</th>      <td> 5.014</td> <th>  Cond. No.          </th> <td>    32.2</td>\n",
       "</tr>\n",
       "</table><br/><br/>Notes:<br/>[1] Standard Errors assume that the covariance matrix of the errors is correctly specified."
      ],
      "text/plain": [
       "<class 'statsmodels.iolib.summary.Summary'>\n",
       "\"\"\"\n",
       "                            OLS Regression Results                            \n",
       "==============================================================================\n",
       "Dep. Variable:                      y   R-squared:                       0.729\n",
       "Model:                            OLS   Adj. R-squared:                  0.726\n",
       "Method:                 Least Squares   F-statistic:                     281.6\n",
       "Date:                Wed, 06 Apr 2022   Prob (F-statistic):          4.49e-203\n",
       "Time:                        13:10:06   Log-Likelihood:                 974.33\n",
       "No. Observations:                 742   AIC:                            -1933.\n",
       "Df Residuals:                     734   BIC:                            -1896.\n",
       "Df Model:                           7                                         \n",
       "Covariance Type:            nonrobust                                         \n",
       "========================================================================================\n",
       "                           coef    std err          t      P>|t|      [0.025      0.975]\n",
       "----------------------------------------------------------------------------------------\n",
       "const                    7.6308      0.003   2803.537      0.000       7.625       7.636\n",
       "1stFlrSF                 0.0947      0.003     33.533      0.000       0.089       0.100\n",
       "2ndFlrSF                 0.0729      0.003     27.433      0.000       0.068       0.078\n",
       "MSZoning_FV              0.0667      0.009      7.090      0.000       0.048       0.085\n",
       "MSZoning_RM             -0.0466      0.009     -5.434      0.000      -0.063      -0.030\n",
       "Neighborhood_MeadowV    -0.0566      0.019     -3.038      0.002      -0.093      -0.020\n",
       "RoofMatl_WdShake        -0.2234      0.066     -3.379      0.001      -0.353      -0.094\n",
       "KitchenQual_Fa          -0.0912      0.023     -3.905      0.000      -0.137      -0.045\n",
       "==============================================================================\n",
       "Omnibus:                       90.133   Durbin-Watson:                   1.933\n",
       "Prob(Omnibus):                  0.000   Jarque-Bera (JB):              187.449\n",
       "Skew:                          -0.709   Prob(JB):                     1.98e-41\n",
       "Kurtosis:                       5.014   Cond. No.                         32.2\n",
       "==============================================================================\n",
       "\n",
       "Notes:\n",
       "[1] Standard Errors assume that the covariance matrix of the errors is correctly specified.\n",
       "\"\"\""
      ]
     },
     "execution_count": 51,
     "metadata": {},
     "output_type": "execute_result"
    }
   ],
   "source": [
    "# Drop High P value features\n",
    "X_train_rfe=X_train_rfe.drop(['MSZoning_RH','ExterQual_Fa'],axis=1)\n",
    "\n",
    "#create fourth model\n",
    "X_train_new = sm.add_constant(X_train_rfe)\n",
    "\n",
    "lr=sm.OLS(y_train,X_train_new)\n",
    "\n",
    "#fit the model\n",
    "lr_model=lr.fit()\n",
    "\n",
    "#Print the summary \n",
    "lr_model.summary()"
   ]
  },
  {
   "cell_type": "code",
   "execution_count": 52,
   "id": "2aa6aa27",
   "metadata": {},
   "outputs": [
    {
     "data": {
      "text/html": [
       "<div>\n",
       "<style scoped>\n",
       "    .dataframe tbody tr th:only-of-type {\n",
       "        vertical-align: middle;\n",
       "    }\n",
       "\n",
       "    .dataframe tbody tr th {\n",
       "        vertical-align: top;\n",
       "    }\n",
       "\n",
       "    .dataframe thead th {\n",
       "        text-align: right;\n",
       "    }\n",
       "</style>\n",
       "<table border=\"1\" class=\"dataframe\">\n",
       "  <thead>\n",
       "    <tr style=\"text-align: right;\">\n",
       "      <th></th>\n",
       "      <th>Features</th>\n",
       "      <th>VIF</th>\n",
       "    </tr>\n",
       "  </thead>\n",
       "  <tbody>\n",
       "  </tbody>\n",
       "</table>\n",
       "</div>"
      ],
      "text/plain": [
       "Empty DataFrame\n",
       "Columns: [Features, VIF]\n",
       "Index: []"
      ]
     },
     "execution_count": 52,
     "metadata": {},
     "output_type": "execute_result"
    }
   ],
   "source": [
    "# Chekcing the VIF\n",
    "vif = pd.DataFrame()\n",
    "vif['Features'] = X_train_rfe.columns\n",
    "vif['VIF'] = [variance_inflation_factor(X_train_rfe.values, i) for i in range(X_train_rfe.shape[1])]\n",
    "vif['VIF'] = round(vif['VIF'], 2)\n",
    "vif = vif.sort_values(by = \"VIF\", ascending = False)\n",
    "high_vif = vif[vif['VIF']>5]\n",
    "high_vif"
   ]
  },
  {
   "cell_type": "markdown",
   "id": "7e73b7b6",
   "metadata": {},
   "source": [
    "**Observation** <br>The fourth model has no multicollinear features and all the p-values are below 5 which makes th model statistically sound and r2-score and adjusted scores almost similar with good F-statistic value"
   ]
  },
  {
   "cell_type": "markdown",
   "id": "c21fc2aa",
   "metadata": {},
   "source": [
    "# Ridge Regression"
   ]
  },
  {
   "cell_type": "code",
   "execution_count": 53,
   "id": "7a502a2e",
   "metadata": {},
   "outputs": [
    {
     "name": "stdout",
     "output_type": "stream",
     "text": [
      "Fitting 10 folds for each of 26 candidates, totalling 260 fits\n"
     ]
    },
    {
     "name": "stderr",
     "output_type": "stream",
     "text": [
      "[Parallel(n_jobs=1)]: Using backend SequentialBackend with 1 concurrent workers.\n",
      "[Parallel(n_jobs=1)]: Done 260 out of 260 | elapsed:    1.3s finished\n"
     ]
    }
   ],
   "source": [
    "# list of alphas to tune\n",
    "params = {'alpha': [0.0001, 0.001, 0.01, 0.05, 0.1, \n",
    " 0.2, 0.3, 0.4, 0.5, 0.6, 0.7, 0.8, 0.9, 1.0, 2.0, 3.0, \n",
    " 4.0, 5.0, 6.0, 7.0, 8.0, 9.0, 10.0, 20, 50, 100]}\n",
    "ridge = Ridge()\n",
    "\n",
    "# Using RFE to find top 20 variables\n",
    "rfe = RFE(estimator=Ridge(), n_features_to_select=20)\n",
    "rfe = rfe.fit(X_train,y_train)\n",
    "col = X_train.columns[rfe.support_]\n",
    "X_train_rfe = X_train[col]\n",
    "X_test_rfe = X_test[col]\n",
    "\n",
    "# cross validation\n",
    "folds = 10\n",
    "model_cv = GridSearchCV(estimator = ridge, param_grid = params, scoring= 'r2', cv = folds, return_train_score=True, verbose = 1)            \n",
    "model_cv.fit(X_train_rfe, y_train) \n",
    "\n",
    "cv_results = pd.DataFrame(model_cv.cv_results_)\n",
    "cv_results = cv_results[cv_results['param_alpha']<=30]\n",
    "# plotting mean test and train scoes with alpha \n",
    "cv_results['param_alpha'] = cv_results['param_alpha'].astype('int32')"
   ]
  },
  {
   "cell_type": "code",
   "execution_count": 54,
   "id": "72b24d00",
   "metadata": {},
   "outputs": [
    {
     "data": {
      "image/png": "[encoded data removed]",
      "text/plain": [
       "<Figure size 432x288 with 1 Axes>"
      ]
     },
     "metadata": {
      "needs_background": "light"
     },
     "output_type": "display_data"
    }
   ],
   "source": [
    "# plotting mean test and train scoes with alpha \n",
    "cv_results['param_alpha'] = cv_results['param_alpha'].astype('int32')\n",
    "\n",
    "# plotting\n",
    "plt.plot(cv_results['param_alpha'], cv_results['mean_train_score'])\n",
    "plt.plot(cv_results['param_alpha'], cv_results['mean_test_score'])\n",
    "plt.xlabel('alpha')\n",
    "plt.ylabel('Negative Mean Absolute Error')\n",
    "plt.title(\"Negative Mean Absolute Error and alpha\")\n",
    "plt.legend(['train score', 'test score'], loc='upper left')\n",
    "plt.show()"
   ]
  },
  {
   "cell_type": "code",
   "execution_count": 55,
   "id": "3bdc99da",
   "metadata": {},
   "outputs": [
    {
     "name": "stdout",
     "output_type": "stream",
     "text": [
      "The optimum alpha is 1\n",
      "Train r2 score 0.8675905298549798\n",
      "Test r2 score 0.7971230980813175\n",
      "MSE for best alpha 0.0027698136629140126\n"
     ]
    }
   ],
   "source": [
    "alpha = cv_results['param_alpha'].loc[cv_results['mean_test_score'].idxmax()]\n",
    "ridge_final = Ridge(alpha=alpha)\n",
    "ridge_final.fit(X_train_rfe,y_train)\n",
    "ridge_coef = ridge_final.coef_\n",
    "y_train_pred = ridge_final.predict(X_train_rfe)\n",
    "y_test_pred = ridge_final.predict(X_test_rfe)\n",
    "print('The optimum alpha is',alpha)\n",
    "print(\"Train r2 score\",r2_score(y_train, y_train_pred))\n",
    "print(\"Test r2 score\",r2_score(y_test, y_test_pred))\n",
    "print(\"MSE for best alpha\",mean_squared_error(y_test, y_test_pred))"
   ]
  },
  {
   "cell_type": "code",
   "execution_count": 56,
   "id": "206f1410",
   "metadata": {},
   "outputs": [
    {
     "data": {
      "text/html": [
       "<div>\n",
       "<style scoped>\n",
       "    .dataframe tbody tr th:only-of-type {\n",
       "        vertical-align: middle;\n",
       "    }\n",
       "\n",
       "    .dataframe tbody tr th {\n",
       "        vertical-align: top;\n",
       "    }\n",
       "\n",
       "    .dataframe thead th {\n",
       "        text-align: right;\n",
       "    }\n",
       "</style>\n",
       "<table border=\"1\" class=\"dataframe\">\n",
       "  <thead>\n",
       "    <tr style=\"text-align: right;\">\n",
       "      <th></th>\n",
       "      <th>Features</th>\n",
       "      <th>VIF</th>\n",
       "    </tr>\n",
       "  </thead>\n",
       "  <tbody>\n",
       "    <tr>\n",
       "      <th>12</th>\n",
       "      <td>BsmtCond_TA</td>\n",
       "      <td>21.29</td>\n",
       "    </tr>\n",
       "    <tr>\n",
       "      <th>16</th>\n",
       "      <td>Functional_Typ</td>\n",
       "      <td>16.79</td>\n",
       "    </tr>\n",
       "    <tr>\n",
       "      <th>18</th>\n",
       "      <td>SaleCondition_Normal</td>\n",
       "      <td>10.30</td>\n",
       "    </tr>\n",
       "  </tbody>\n",
       "</table>\n",
       "</div>"
      ],
      "text/plain": [
       "                Features    VIF\n",
       "12           BsmtCond_TA  21.29\n",
       "16        Functional_Typ  16.79\n",
       "18  SaleCondition_Normal  10.30"
      ]
     },
     "execution_count": 56,
     "metadata": {},
     "output_type": "execute_result"
    }
   ],
   "source": [
    "# Chekcing the VIF\n",
    "vif = pd.DataFrame()\n",
    "vif['Features'] = X_train_rfe.columns\n",
    "vif['VIF'] = [variance_inflation_factor(X_train_rfe.values, i) for i in range(X_train_rfe.shape[1])]\n",
    "vif['VIF'] = round(vif['VIF'], 2)\n",
    "vif = vif.sort_values(by = \"VIF\", ascending = False)\n",
    "high_vif = vif[vif['VIF']>10]\n",
    "high_vif"
   ]
  },
  {
   "cell_type": "code",
   "execution_count": 57,
   "id": "45a07cc6",
   "metadata": {},
   "outputs": [],
   "source": [
    "# Dropping cols with high VIF\n",
    "X_train_rfe2 = X_train_rfe.drop(high_vif.Features,axis=1)\n",
    "X_test_rfe2 = X_test_rfe.drop(high_vif.Features,axis=1)"
   ]
  },
  {
   "cell_type": "code",
   "execution_count": 58,
   "id": "44ee669e",
   "metadata": {},
   "outputs": [
    {
     "name": "stdout",
     "output_type": "stream",
     "text": [
      "Fitting 10 folds for each of 26 candidates, totalling 260 fits\n"
     ]
    },
    {
     "name": "stderr",
     "output_type": "stream",
     "text": [
      "[Parallel(n_jobs=1)]: Using backend SequentialBackend with 1 concurrent workers.\n",
      "[Parallel(n_jobs=1)]: Done 260 out of 260 | elapsed:    1.2s finished\n"
     ]
    }
   ],
   "source": [
    "# list of alphas to tune\n",
    "params = {'alpha': [0.0001, 0.001, 0.01, 0.05, 0.1, \n",
    " 0.2, 0.3, 0.4, 0.5, 0.6, 0.7, 0.8, 0.9, 1.0, 2.0, 3.0, \n",
    " 4.0, 5.0, 6.0, 7.0, 8.0, 9.0, 10.0, 20, 50, 100]}\n",
    "ridge = Ridge()\n",
    "\n",
    "# cross validation\n",
    "folds = 10\n",
    "model_cv = GridSearchCV(estimator = ridge, param_grid = params, scoring= 'r2', cv = folds, return_train_score=True, verbose = 1)            \n",
    "model_cv.fit(X_train_rfe2, y_train) \n",
    "\n",
    "cv_results = pd.DataFrame(model_cv.cv_results_)\n",
    "cv_results = cv_results[cv_results['param_alpha']<=30]\n",
    "# plotting mean test and train scoes with alpha \n",
    "cv_results['param_alpha'] = cv_results['param_alpha'].astype('int32')"
   ]
  },
  {
   "cell_type": "code",
   "execution_count": 59,
   "id": "79e3c598",
   "metadata": {},
   "outputs": [
    {
     "data": {
      "image/png": "[encoded data removed]",
      "text/plain": [
       "<Figure size 432x288 with 1 Axes>"
      ]
     },
     "metadata": {
      "needs_background": "light"
     },
     "output_type": "display_data"
    }
   ],
   "source": [
    "# plotting mean test and train scoes with alpha \n",
    "cv_results['param_alpha'] = cv_results['param_alpha'].astype('int32')\n",
    "\n",
    "# plotting\n",
    "plt.plot(cv_results['param_alpha'], cv_results['mean_train_score'])\n",
    "plt.plot(cv_results['param_alpha'], cv_results['mean_test_score'])\n",
    "plt.xlabel('alpha')\n",
    "plt.ylabel('Negative Mean Absolute Error')\n",
    "plt.title(\"Negative Mean Absolute Error and alpha\")\n",
    "plt.legend(['train score', 'test score'], loc='upper left')\n",
    "plt.show()"
   ]
  },
  {
   "cell_type": "code",
   "execution_count": 60,
   "id": "619f5b6d",
   "metadata": {},
   "outputs": [
    {
     "name": "stdout",
     "output_type": "stream",
     "text": [
      "The optimum alpha is 1\n",
      "Train r2 score 0.8543812582557022\n",
      "Test r2 score 0.7609789596856678\n",
      "MSE for best alpha 0.0032632780613532845\n"
     ]
    }
   ],
   "source": [
    "alpha = cv_results['param_alpha'].loc[cv_results['mean_test_score'].idxmax()]\n",
    "ridge_final2 = Ridge(alpha=alpha)\n",
    "ridge_final2.fit(X_train_rfe2,y_train)\n",
    "ridge_coef2 = ridge_final2.coef_\n",
    "y_train_pred = ridge_final2.predict(X_train_rfe2)\n",
    "y_test_pred = ridge_final2.predict(X_test_rfe2)\n",
    "print('The optimum alpha is',alpha)\n",
    "print(\"Train r2 score\",r2_score(y_train, y_train_pred))\n",
    "print(\"Test r2 score\",r2_score(y_test, y_test_pred))\n",
    "print(\"MSE for best alpha\",mean_squared_error(y_test, y_test_pred))"
   ]
  },
  {
   "cell_type": "code",
   "execution_count": 61,
   "id": "12226fa8",
   "metadata": {},
   "outputs": [
    {
     "data": {
      "text/html": [
       "<div>\n",
       "<style scoped>\n",
       "    .dataframe tbody tr th:only-of-type {\n",
       "        vertical-align: middle;\n",
       "    }\n",
       "\n",
       "    .dataframe tbody tr th {\n",
       "        vertical-align: top;\n",
       "    }\n",
       "\n",
       "    .dataframe thead th {\n",
       "        text-align: right;\n",
       "    }\n",
       "</style>\n",
       "<table border=\"1\" class=\"dataframe\">\n",
       "  <thead>\n",
       "    <tr style=\"text-align: right;\">\n",
       "      <th></th>\n",
       "      <th>Features</th>\n",
       "      <th>VIF</th>\n",
       "    </tr>\n",
       "  </thead>\n",
       "  <tbody>\n",
       "  </tbody>\n",
       "</table>\n",
       "</div>"
      ],
      "text/plain": [
       "Empty DataFrame\n",
       "Columns: [Features, VIF]\n",
       "Index: []"
      ]
     },
     "execution_count": 61,
     "metadata": {},
     "output_type": "execute_result"
    }
   ],
   "source": [
    "# Chekcing the VIF\n",
    "vif = pd.DataFrame()\n",
    "vif['Features'] = X_train_rfe2.columns\n",
    "vif['VIF'] = [variance_inflation_factor(X_train_rfe2.values, i) for i in range(X_train_rfe2.shape[1])]\n",
    "vif['VIF'] = round(vif['VIF'], 2)\n",
    "vif = vif.sort_values(by = \"VIF\", ascending = False)\n",
    "high_vif = vif[vif['VIF']>10]\n",
    "high_vif"
   ]
  },
  {
   "cell_type": "code",
   "execution_count": 62,
   "id": "f969413e",
   "metadata": {},
   "outputs": [
    {
     "data": {
      "text/html": [
       "<div>\n",
       "<style scoped>\n",
       "    .dataframe tbody tr th:only-of-type {\n",
       "        vertical-align: middle;\n",
       "    }\n",
       "\n",
       "    .dataframe tbody tr th {\n",
       "        vertical-align: top;\n",
       "    }\n",
       "\n",
       "    .dataframe thead th {\n",
       "        text-align: right;\n",
       "    }\n",
       "</style>\n",
       "<table border=\"1\" class=\"dataframe\">\n",
       "  <thead>\n",
       "    <tr style=\"text-align: right;\">\n",
       "      <th></th>\n",
       "      <th>Ridge Co-Efficient</th>\n",
       "    </tr>\n",
       "  </thead>\n",
       "  <tbody>\n",
       "    <tr>\n",
       "      <th>GrLivArea</th>\n",
       "      <td>0.050729</td>\n",
       "    </tr>\n",
       "    <tr>\n",
       "      <th>OverallQual</th>\n",
       "      <td>0.046780</td>\n",
       "    </tr>\n",
       "    <tr>\n",
       "      <th>BsmtExposure_Gd</th>\n",
       "      <td>0.044848</td>\n",
       "    </tr>\n",
       "    <tr>\n",
       "      <th>Neighborhood_NridgHt</th>\n",
       "      <td>0.042378</td>\n",
       "    </tr>\n",
       "    <tr>\n",
       "      <th>Neighborhood_Crawfor</th>\n",
       "      <td>0.039044</td>\n",
       "    </tr>\n",
       "    <tr>\n",
       "      <th>SaleType_CWD</th>\n",
       "      <td>0.036295</td>\n",
       "    </tr>\n",
       "    <tr>\n",
       "      <th>Neighborhood_StoneBr</th>\n",
       "      <td>0.034124</td>\n",
       "    </tr>\n",
       "    <tr>\n",
       "      <th>SaleCondition_Partial</th>\n",
       "      <td>0.032772</td>\n",
       "    </tr>\n",
       "    <tr>\n",
       "      <th>BsmtCond_Gd</th>\n",
       "      <td>-0.000382</td>\n",
       "    </tr>\n",
       "    <tr>\n",
       "      <th>KitchenQual_TA</th>\n",
       "      <td>-0.030739</td>\n",
       "    </tr>\n",
       "    <tr>\n",
       "      <th>Neighborhood_Blueste</th>\n",
       "      <td>-0.031650</td>\n",
       "    </tr>\n",
       "    <tr>\n",
       "      <th>RoofMatl_WdShake</th>\n",
       "      <td>-0.044786</td>\n",
       "    </tr>\n",
       "    <tr>\n",
       "      <th>BldgType_Twnhs</th>\n",
       "      <td>-0.050624</td>\n",
       "    </tr>\n",
       "    <tr>\n",
       "      <th>KitchenQual_Fa</th>\n",
       "      <td>-0.060561</td>\n",
       "    </tr>\n",
       "    <tr>\n",
       "      <th>Neighborhood_OldTown</th>\n",
       "      <td>-0.062382</td>\n",
       "    </tr>\n",
       "    <tr>\n",
       "      <th>Neighborhood_MeadowV</th>\n",
       "      <td>-0.067624</td>\n",
       "    </tr>\n",
       "    <tr>\n",
       "      <th>Neighborhood_BrDale</th>\n",
       "      <td>-0.075234</td>\n",
       "    </tr>\n",
       "  </tbody>\n",
       "</table>\n",
       "</div>"
      ],
      "text/plain": [
       "                       Ridge Co-Efficient\n",
       "GrLivArea                        0.050729\n",
       "OverallQual                      0.046780\n",
       "BsmtExposure_Gd                  0.044848\n",
       "Neighborhood_NridgHt             0.042378\n",
       "Neighborhood_Crawfor             0.039044\n",
       "SaleType_CWD                     0.036295\n",
       "Neighborhood_StoneBr             0.034124\n",
       "SaleCondition_Partial            0.032772\n",
       "BsmtCond_Gd                     -0.000382\n",
       "KitchenQual_TA                  -0.030739\n",
       "Neighborhood_Blueste            -0.031650\n",
       "RoofMatl_WdShake                -0.044786\n",
       "BldgType_Twnhs                  -0.050624\n",
       "KitchenQual_Fa                  -0.060561\n",
       "Neighborhood_OldTown            -0.062382\n",
       "Neighborhood_MeadowV            -0.067624\n",
       "Neighborhood_BrDale             -0.075234"
      ]
     },
     "execution_count": 62,
     "metadata": {},
     "output_type": "execute_result"
    }
   ],
   "source": [
    "#Displaing the co-efficients of the model\n",
    "ridge_coeff2 = pd.DataFrame(np.atleast_2d(ridge_coef2),columns=X_train_rfe2.columns)\n",
    "ridge_coeff2 = ridge_coeff2.T\n",
    "ridge_coeff2.rename(columns={0: 'Ridge Co-Efficient'},inplace=True)\n",
    "ridge_coeff2.sort_values(by=['Ridge Co-Efficient'], ascending=False,inplace=True)\n",
    "ridge_coeff2"
   ]
  },
  {
   "cell_type": "markdown",
   "id": "1651e57d",
   "metadata": {},
   "source": [
    "# Lasso Regression"
   ]
  },
  {
   "cell_type": "code",
   "execution_count": 63,
   "id": "3f61c5f6",
   "metadata": {},
   "outputs": [
    {
     "name": "stdout",
     "output_type": "stream",
     "text": [
      "Fitting 10 folds for each of 15 candidates, totalling 150 fits\n"
     ]
    },
    {
     "name": "stderr",
     "output_type": "stream",
     "text": [
      "[Parallel(n_jobs=1)]: Using backend SequentialBackend with 1 concurrent workers.\n",
      "[Parallel(n_jobs=1)]: Done 150 out of 150 | elapsed:    0.8s finished\n"
     ]
    }
   ],
   "source": [
    "# find the optimum alpha\n",
    "params = {'alpha': [0.00001, 0.00009, 0.0001, 0.0002, 0.0003, 0.0004, 0.0005, 0.0006, 0.0007, 0.0008, 0.0009 , 0.001, 0.01, 0.05, 0.1, ]}\n",
    "lasso = Lasso(random_state=42)\n",
    "\n",
    "# cross validation\n",
    "folds = 10\n",
    "model_cv = GridSearchCV(estimator = lasso, param_grid = params, scoring= 'r2', cv = folds, return_train_score=True, verbose = 1)            \n",
    "model_cv.fit(X_train_rfe2, y_train) \n",
    "\n",
    "cv_results = pd.DataFrame(model_cv.cv_results_)"
   ]
  },
  {
   "cell_type": "code",
   "execution_count": 64,
   "id": "d932e6a5",
   "metadata": {},
   "outputs": [
    {
     "data": {
      "image/png": "[encoded data removed]",
      "text/plain": [
       "<Figure size 432x288 with 1 Axes>"
      ]
     },
     "metadata": {
      "needs_background": "light"
     },
     "output_type": "display_data"
    }
   ],
   "source": [
    "# plotting\n",
    "plt.plot(cv_results['param_alpha'], cv_results['mean_train_score'])\n",
    "plt.plot(cv_results['param_alpha'], cv_results['mean_test_score'])\n",
    "plt.xlabel('alpha')\n",
    "plt.ylabel('R2 Score')\n",
    "plt.title(\"R2 Score and Alpha\")\n",
    "plt.legend(['train score', 'test score'], loc='upper right')\n",
    "plt.show()"
   ]
  },
  {
   "cell_type": "code",
   "execution_count": 65,
   "id": "3519c20f",
   "metadata": {},
   "outputs": [
    {
     "name": "stdout",
     "output_type": "stream",
     "text": [
      "The optimum alpha is 9e-05\n",
      "Train r2 score 0.8537179305476092\n",
      "Test r2 score 0.7610746582512418\n",
      "MSE for best alpha 0.0032619715193470656\n"
     ]
    }
   ],
   "source": [
    "alpha = cv_results['param_alpha'].loc[cv_results['mean_test_score'].idxmax()]\n",
    "lasso_final2 = Lasso(alpha=alpha,random_state=100)\n",
    "lasso_final2.fit(X_train_rfe2,y_train)\n",
    "lasso_coef2 = lasso_final2.coef_\n",
    "y_train_pred = lasso_final2.predict(X_train_rfe2)\n",
    "y_test_pred = lasso_final2.predict(X_test_rfe2)\n",
    "print('The optimum alpha is',alpha)\n",
    "print(\"Train r2 score\",r2_score(y_train, y_train_pred))\n",
    "print(\"Test r2 score\",r2_score(y_test, y_test_pred))\n",
    "print(\"MSE for best alpha\",mean_squared_error(y_test, y_test_pred))"
   ]
  },
  {
   "cell_type": "code",
   "execution_count": 66,
   "id": "6b4fa37c",
   "metadata": {},
   "outputs": [
    {
     "data": {
      "text/html": [
       "<div>\n",
       "<style scoped>\n",
       "    .dataframe tbody tr th:only-of-type {\n",
       "        vertical-align: middle;\n",
       "    }\n",
       "\n",
       "    .dataframe tbody tr th {\n",
       "        vertical-align: top;\n",
       "    }\n",
       "\n",
       "    .dataframe thead th {\n",
       "        text-align: right;\n",
       "    }\n",
       "</style>\n",
       "<table border=\"1\" class=\"dataframe\">\n",
       "  <thead>\n",
       "    <tr style=\"text-align: right;\">\n",
       "      <th></th>\n",
       "      <th>Lasso Co-Efficient</th>\n",
       "    </tr>\n",
       "  </thead>\n",
       "  <tbody>\n",
       "    <tr>\n",
       "      <th>GrLivArea</th>\n",
       "      <td>0.050578</td>\n",
       "    </tr>\n",
       "    <tr>\n",
       "      <th>OverallQual</th>\n",
       "      <td>0.047210</td>\n",
       "    </tr>\n",
       "    <tr>\n",
       "      <th>BsmtExposure_Gd</th>\n",
       "      <td>0.044367</td>\n",
       "    </tr>\n",
       "    <tr>\n",
       "      <th>Neighborhood_NridgHt</th>\n",
       "      <td>0.041452</td>\n",
       "    </tr>\n",
       "    <tr>\n",
       "      <th>Neighborhood_Crawfor</th>\n",
       "      <td>0.038132</td>\n",
       "    </tr>\n",
       "    <tr>\n",
       "      <th>SaleCondition_Partial</th>\n",
       "      <td>0.032279</td>\n",
       "    </tr>\n",
       "    <tr>\n",
       "      <th>Neighborhood_StoneBr</th>\n",
       "      <td>0.031600</td>\n",
       "    </tr>\n",
       "    <tr>\n",
       "      <th>SaleType_CWD</th>\n",
       "      <td>0.020867</td>\n",
       "    </tr>\n",
       "    <tr>\n",
       "      <th>BsmtCond_Gd</th>\n",
       "      <td>-0.000000</td>\n",
       "    </tr>\n",
       "    <tr>\n",
       "      <th>Neighborhood_Blueste</th>\n",
       "      <td>-0.000000</td>\n",
       "    </tr>\n",
       "    <tr>\n",
       "      <th>RoofMatl_WdShake</th>\n",
       "      <td>-0.022466</td>\n",
       "    </tr>\n",
       "    <tr>\n",
       "      <th>KitchenQual_TA</th>\n",
       "      <td>-0.030356</td>\n",
       "    </tr>\n",
       "    <tr>\n",
       "      <th>BldgType_Twnhs</th>\n",
       "      <td>-0.049690</td>\n",
       "    </tr>\n",
       "    <tr>\n",
       "      <th>KitchenQual_Fa</th>\n",
       "      <td>-0.059154</td>\n",
       "    </tr>\n",
       "    <tr>\n",
       "      <th>Neighborhood_OldTown</th>\n",
       "      <td>-0.062237</td>\n",
       "    </tr>\n",
       "    <tr>\n",
       "      <th>Neighborhood_MeadowV</th>\n",
       "      <td>-0.067918</td>\n",
       "    </tr>\n",
       "    <tr>\n",
       "      <th>Neighborhood_BrDale</th>\n",
       "      <td>-0.076943</td>\n",
       "    </tr>\n",
       "  </tbody>\n",
       "</table>\n",
       "</div>"
      ],
      "text/plain": [
       "                       Lasso Co-Efficient\n",
       "GrLivArea                        0.050578\n",
       "OverallQual                      0.047210\n",
       "BsmtExposure_Gd                  0.044367\n",
       "Neighborhood_NridgHt             0.041452\n",
       "Neighborhood_Crawfor             0.038132\n",
       "SaleCondition_Partial            0.032279\n",
       "Neighborhood_StoneBr             0.031600\n",
       "SaleType_CWD                     0.020867\n",
       "BsmtCond_Gd                     -0.000000\n",
       "Neighborhood_Blueste            -0.000000\n",
       "RoofMatl_WdShake                -0.022466\n",
       "KitchenQual_TA                  -0.030356\n",
       "BldgType_Twnhs                  -0.049690\n",
       "KitchenQual_Fa                  -0.059154\n",
       "Neighborhood_OldTown            -0.062237\n",
       "Neighborhood_MeadowV            -0.067918\n",
       "Neighborhood_BrDale             -0.076943"
      ]
     },
     "execution_count": 66,
     "metadata": {},
     "output_type": "execute_result"
    }
   ],
   "source": [
    "#Displaing the co-efficients of the model\n",
    "lasso_coeff2 = pd.DataFrame(np.atleast_2d(lasso_coef2),columns=X_train_rfe2.columns)\n",
    "lasso_coeff2 = lasso_coeff2.T\n",
    "lasso_coeff2.rename(columns={0: \"Lasso Co-Efficient\"},inplace=True)\n",
    "lasso_coeff2.sort_values(by=['Lasso Co-Efficient'], ascending=False,inplace=True)\n",
    "lasso_coeff2"
   ]
  },
  {
   "cell_type": "markdown",
   "id": "6c76b797",
   "metadata": {},
   "source": [
    "**Observation** <br>The best alpha value for Ridge is 1 <br> The best alpha value for Lasso is 0.00009"
   ]
  },
  {
   "cell_type": "markdown",
   "id": "c97b8d72",
   "metadata": {},
   "source": [
    "# Subjective questions Analysis"
   ]
  },
  {
   "cell_type": "code",
   "execution_count": 67,
   "id": "796f6083",
   "metadata": {},
   "outputs": [],
   "source": [
    "# Doubling alphas for ridge and lasso\n",
    "double_ridge_alpha=1*2\n",
    "double_lasso_alpha=0.00009*2"
   ]
  },
  {
   "cell_type": "markdown",
   "id": "684df8de",
   "metadata": {},
   "source": [
    "# Double alpha Ridge Model"
   ]
  },
  {
   "cell_type": "code",
   "execution_count": 68,
   "id": "e4c30f5e",
   "metadata": {},
   "outputs": [
    {
     "name": "stdout",
     "output_type": "stream",
     "text": [
      "Train r2 score 0.8537112140191716\n",
      "Test r2 score 0.76120551396102\n",
      "MSE for best alpha 0.0032601849880594413\n"
     ]
    }
   ],
   "source": [
    "# Build double alpha ridge model\n",
    "ridge_double = Ridge(alpha=double_ridge_alpha)\n",
    "ridge_double.fit(X_train_rfe2,y_train)\n",
    "ridge_double_coef = ridge_double.coef_\n",
    "y_train_pred = ridge_double.predict(X_train_rfe2)\n",
    "y_test_pred = ridge_double.predict(X_test_rfe2)\n",
    "print(\"Train r2 score\",r2_score(y_train, y_train_pred))\n",
    "print(\"Test r2 score\",r2_score(y_test, y_test_pred))\n",
    "print(\"MSE for best alpha\",mean_squared_error(y_test, y_test_pred))"
   ]
  },
  {
   "cell_type": "code",
   "execution_count": 69,
   "id": "f5533570",
   "metadata": {},
   "outputs": [
    {
     "name": "stdout",
     "output_type": "stream",
     "text": [
      "The most important predictor variables are as follows:\n"
     ]
    },
    {
     "data": {
      "text/html": [
       "<div>\n",
       "<style scoped>\n",
       "    .dataframe tbody tr th:only-of-type {\n",
       "        vertical-align: middle;\n",
       "    }\n",
       "\n",
       "    .dataframe tbody tr th {\n",
       "        vertical-align: top;\n",
       "    }\n",
       "\n",
       "    .dataframe thead th {\n",
       "        text-align: right;\n",
       "    }\n",
       "</style>\n",
       "<table border=\"1\" class=\"dataframe\">\n",
       "  <thead>\n",
       "    <tr style=\"text-align: right;\">\n",
       "      <th></th>\n",
       "      <th>Ridge Doubled Alpha Co-Efficient</th>\n",
       "    </tr>\n",
       "  </thead>\n",
       "  <tbody>\n",
       "    <tr>\n",
       "      <th>GrLivArea</th>\n",
       "      <td>0.050733</td>\n",
       "    </tr>\n",
       "    <tr>\n",
       "      <th>OverallQual</th>\n",
       "      <td>0.047428</td>\n",
       "    </tr>\n",
       "    <tr>\n",
       "      <th>BsmtExposure_Gd</th>\n",
       "      <td>0.043952</td>\n",
       "    </tr>\n",
       "    <tr>\n",
       "      <th>Neighborhood_NridgHt</th>\n",
       "      <td>0.041123</td>\n",
       "    </tr>\n",
       "    <tr>\n",
       "      <th>Neighborhood_Crawfor</th>\n",
       "      <td>0.037102</td>\n",
       "    </tr>\n",
       "    <tr>\n",
       "      <th>SaleCondition_Partial</th>\n",
       "      <td>0.032310</td>\n",
       "    </tr>\n",
       "    <tr>\n",
       "      <th>Neighborhood_StoneBr</th>\n",
       "      <td>0.031689</td>\n",
       "    </tr>\n",
       "    <tr>\n",
       "      <th>SaleType_CWD</th>\n",
       "      <td>0.027306</td>\n",
       "    </tr>\n",
       "    <tr>\n",
       "      <th>BsmtCond_Gd</th>\n",
       "      <td>0.000060</td>\n",
       "    </tr>\n",
       "    <tr>\n",
       "      <th>Neighborhood_Blueste</th>\n",
       "      <td>-0.021085</td>\n",
       "    </tr>\n",
       "    <tr>\n",
       "      <th>RoofMatl_WdShake</th>\n",
       "      <td>-0.029908</td>\n",
       "    </tr>\n",
       "    <tr>\n",
       "      <th>KitchenQual_TA</th>\n",
       "      <td>-0.030418</td>\n",
       "    </tr>\n",
       "    <tr>\n",
       "      <th>BldgType_Twnhs</th>\n",
       "      <td>-0.051192</td>\n",
       "    </tr>\n",
       "    <tr>\n",
       "      <th>KitchenQual_Fa</th>\n",
       "      <td>-0.053415</td>\n",
       "    </tr>\n",
       "    <tr>\n",
       "      <th>Neighborhood_OldTown</th>\n",
       "      <td>-0.059859</td>\n",
       "    </tr>\n",
       "    <tr>\n",
       "      <th>Neighborhood_MeadowV</th>\n",
       "      <td>-0.062542</td>\n",
       "    </tr>\n",
       "    <tr>\n",
       "      <th>Neighborhood_BrDale</th>\n",
       "      <td>-0.068918</td>\n",
       "    </tr>\n",
       "  </tbody>\n",
       "</table>\n",
       "</div>"
      ],
      "text/plain": [
       "                       Ridge Doubled Alpha Co-Efficient\n",
       "GrLivArea                                      0.050733\n",
       "OverallQual                                    0.047428\n",
       "BsmtExposure_Gd                                0.043952\n",
       "Neighborhood_NridgHt                           0.041123\n",
       "Neighborhood_Crawfor                           0.037102\n",
       "SaleCondition_Partial                          0.032310\n",
       "Neighborhood_StoneBr                           0.031689\n",
       "SaleType_CWD                                   0.027306\n",
       "BsmtCond_Gd                                    0.000060\n",
       "Neighborhood_Blueste                          -0.021085\n",
       "RoofMatl_WdShake                              -0.029908\n",
       "KitchenQual_TA                                -0.030418\n",
       "BldgType_Twnhs                                -0.051192\n",
       "KitchenQual_Fa                                -0.053415\n",
       "Neighborhood_OldTown                          -0.059859\n",
       "Neighborhood_MeadowV                          -0.062542\n",
       "Neighborhood_BrDale                           -0.068918"
      ]
     },
     "execution_count": 69,
     "metadata": {},
     "output_type": "execute_result"
    }
   ],
   "source": [
    "ridge_double_coeff = pd.DataFrame(np.atleast_2d(ridge_double_coef),columns=X_train_rfe2.columns)\n",
    "ridge_double_coeff = ridge_double_coeff.T\n",
    "ridge_double_coeff.rename(columns={0: 'Ridge Doubled Alpha Co-Efficient'},inplace=True)\n",
    "ridge_double_coeff.sort_values(by=['Ridge Doubled Alpha Co-Efficient'], ascending=False,inplace=True)\n",
    "print('The most important predictor variables are as follows:')\n",
    "ridge_double_coeff"
   ]
  },
  {
   "cell_type": "markdown",
   "id": "701a1a45",
   "metadata": {},
   "source": [
    "# Double alpha Lasso Model"
   ]
  },
  {
   "cell_type": "code",
   "execution_count": 70,
   "id": "62ac2495",
   "metadata": {},
   "outputs": [
    {
     "name": "stdout",
     "output_type": "stream",
     "text": [
      "Train r2 score 0.8524313877808778\n",
      "Test r2 score 0.7611358090753069\n",
      "MSE for best alpha 0.0032611366466415385\n"
     ]
    }
   ],
   "source": [
    "# Build double alpha lasso model\n",
    "lasso_double = Lasso(alpha=double_lasso_alpha)\n",
    "lasso_double.fit(X_train_rfe2,y_train)\n",
    "lasso_double_coef = ridge_double.coef_\n",
    "y_train_pred = lasso_double.predict(X_train_rfe2)\n",
    "y_test_pred = lasso_double.predict(X_test_rfe2)\n",
    "print(\"Train r2 score\",r2_score(y_train, y_train_pred))\n",
    "print(\"Test r2 score\",r2_score(y_test, y_test_pred))\n",
    "print(\"MSE for best alpha\",mean_squared_error(y_test, y_test_pred))"
   ]
  },
  {
   "cell_type": "code",
   "execution_count": 71,
   "id": "7735c0d7",
   "metadata": {},
   "outputs": [
    {
     "name": "stdout",
     "output_type": "stream",
     "text": [
      "The most important predictor variables are as follows:\n"
     ]
    },
    {
     "data": {
      "text/html": [
       "<div>\n",
       "<style scoped>\n",
       "    .dataframe tbody tr th:only-of-type {\n",
       "        vertical-align: middle;\n",
       "    }\n",
       "\n",
       "    .dataframe tbody tr th {\n",
       "        vertical-align: top;\n",
       "    }\n",
       "\n",
       "    .dataframe thead th {\n",
       "        text-align: right;\n",
       "    }\n",
       "</style>\n",
       "<table border=\"1\" class=\"dataframe\">\n",
       "  <thead>\n",
       "    <tr style=\"text-align: right;\">\n",
       "      <th></th>\n",
       "      <th>Lasso Doubled Alpha Co-Efficient</th>\n",
       "    </tr>\n",
       "  </thead>\n",
       "  <tbody>\n",
       "    <tr>\n",
       "      <th>GrLivArea</th>\n",
       "      <td>0.050733</td>\n",
       "    </tr>\n",
       "    <tr>\n",
       "      <th>OverallQual</th>\n",
       "      <td>0.047428</td>\n",
       "    </tr>\n",
       "    <tr>\n",
       "      <th>BsmtExposure_Gd</th>\n",
       "      <td>0.043952</td>\n",
       "    </tr>\n",
       "    <tr>\n",
       "      <th>Neighborhood_NridgHt</th>\n",
       "      <td>0.041123</td>\n",
       "    </tr>\n",
       "    <tr>\n",
       "      <th>Neighborhood_Crawfor</th>\n",
       "      <td>0.037102</td>\n",
       "    </tr>\n",
       "    <tr>\n",
       "      <th>SaleCondition_Partial</th>\n",
       "      <td>0.032310</td>\n",
       "    </tr>\n",
       "    <tr>\n",
       "      <th>Neighborhood_StoneBr</th>\n",
       "      <td>0.031689</td>\n",
       "    </tr>\n",
       "    <tr>\n",
       "      <th>SaleType_CWD</th>\n",
       "      <td>0.027306</td>\n",
       "    </tr>\n",
       "    <tr>\n",
       "      <th>BsmtCond_Gd</th>\n",
       "      <td>0.000060</td>\n",
       "    </tr>\n",
       "    <tr>\n",
       "      <th>Neighborhood_Blueste</th>\n",
       "      <td>-0.021085</td>\n",
       "    </tr>\n",
       "    <tr>\n",
       "      <th>RoofMatl_WdShake</th>\n",
       "      <td>-0.029908</td>\n",
       "    </tr>\n",
       "    <tr>\n",
       "      <th>KitchenQual_TA</th>\n",
       "      <td>-0.030418</td>\n",
       "    </tr>\n",
       "    <tr>\n",
       "      <th>BldgType_Twnhs</th>\n",
       "      <td>-0.051192</td>\n",
       "    </tr>\n",
       "    <tr>\n",
       "      <th>KitchenQual_Fa</th>\n",
       "      <td>-0.053415</td>\n",
       "    </tr>\n",
       "    <tr>\n",
       "      <th>Neighborhood_OldTown</th>\n",
       "      <td>-0.059859</td>\n",
       "    </tr>\n",
       "    <tr>\n",
       "      <th>Neighborhood_MeadowV</th>\n",
       "      <td>-0.062542</td>\n",
       "    </tr>\n",
       "    <tr>\n",
       "      <th>Neighborhood_BrDale</th>\n",
       "      <td>-0.068918</td>\n",
       "    </tr>\n",
       "  </tbody>\n",
       "</table>\n",
       "</div>"
      ],
      "text/plain": [
       "                       Lasso Doubled Alpha Co-Efficient\n",
       "GrLivArea                                      0.050733\n",
       "OverallQual                                    0.047428\n",
       "BsmtExposure_Gd                                0.043952\n",
       "Neighborhood_NridgHt                           0.041123\n",
       "Neighborhood_Crawfor                           0.037102\n",
       "SaleCondition_Partial                          0.032310\n",
       "Neighborhood_StoneBr                           0.031689\n",
       "SaleType_CWD                                   0.027306\n",
       "BsmtCond_Gd                                    0.000060\n",
       "Neighborhood_Blueste                          -0.021085\n",
       "RoofMatl_WdShake                              -0.029908\n",
       "KitchenQual_TA                                -0.030418\n",
       "BldgType_Twnhs                                -0.051192\n",
       "KitchenQual_Fa                                -0.053415\n",
       "Neighborhood_OldTown                          -0.059859\n",
       "Neighborhood_MeadowV                          -0.062542\n",
       "Neighborhood_BrDale                           -0.068918"
      ]
     },
     "execution_count": 71,
     "metadata": {},
     "output_type": "execute_result"
    }
   ],
   "source": [
    "lasso_double_coeff = pd.DataFrame(np.atleast_2d(lasso_double_coef),columns=X_train_rfe2.columns)\n",
    "lasso_double_coeff = lasso_double_coeff.T\n",
    "lasso_double_coeff.rename(columns={0: 'Lasso Doubled Alpha Co-Efficient'},inplace=True)\n",
    "lasso_double_coeff.sort_values(by=['Lasso Doubled Alpha Co-Efficient'], ascending=False,inplace=True)\n",
    "print('The most important predictor variables are as follows:')\n",
    "lasso_double_coeff"
   ]
  },
  {
   "cell_type": "markdown",
   "id": "c5b490b6",
   "metadata": {},
   "source": [
    "# Remove top-5 features and rebuild Lasso"
   ]
  },
  {
   "cell_type": "code",
   "execution_count": 72,
   "id": "97551127",
   "metadata": {},
   "outputs": [
    {
     "name": "stdout",
     "output_type": "stream",
     "text": [
      "Train r2 score 0.5290875839983422\n",
      "Test r2 score 0.451718243773927\n",
      "MSE for best alpha 0.007485516020597409\n"
     ]
    }
   ],
   "source": [
    "#Removing the 5 most important predictor variables from the incoming dataset\n",
    "X_test_rfe3 = X_test_rfe2.drop(['GrLivArea','OverallQual','BsmtExposure_Gd','Neighborhood_NridgHt','Neighborhood_Crawfor'],axis=1)\n",
    "X_train_rfe3 = X_train_rfe2.drop(['GrLivArea','OverallQual','BsmtExposure_Gd','Neighborhood_NridgHt','Neighborhood_Crawfor'],axis=1)\n",
    "\n",
    "# Building Lasso Model with the new dataset\n",
    "lasso3 = Lasso(alpha=0.00009)\n",
    "lasso3.fit(X_train_rfe3,y_train)\n",
    "lasso3_coef = lasso3.coef_\n",
    "y_train_pred = lasso3.predict(X_train_rfe3)\n",
    "y_test_pred = lasso3.predict(X_test_rfe3)\n",
    "print(\"Train r2 score\",r2_score(y_train, y_train_pred))\n",
    "print(\"Test r2 score\",r2_score(y_test, y_test_pred))\n",
    "print(\"MSE for best alpha\",mean_squared_error(y_test, y_test_pred))"
   ]
  },
  {
   "cell_type": "code",
   "execution_count": 73,
   "id": "7a675c0f",
   "metadata": {},
   "outputs": [
    {
     "name": "stdout",
     "output_type": "stream",
     "text": [
      "The top-5 features after rebuilding Lasso model are as follows:\n"
     ]
    },
    {
     "data": {
      "text/html": [
       "<div>\n",
       "<style scoped>\n",
       "    .dataframe tbody tr th:only-of-type {\n",
       "        vertical-align: middle;\n",
       "    }\n",
       "\n",
       "    .dataframe tbody tr th {\n",
       "        vertical-align: top;\n",
       "    }\n",
       "\n",
       "    .dataframe thead th {\n",
       "        text-align: right;\n",
       "    }\n",
       "</style>\n",
       "<table border=\"1\" class=\"dataframe\">\n",
       "  <thead>\n",
       "    <tr style=\"text-align: right;\">\n",
       "      <th></th>\n",
       "      <th>Lasso Co-Efficient</th>\n",
       "    </tr>\n",
       "  </thead>\n",
       "  <tbody>\n",
       "    <tr>\n",
       "      <th>SaleType_CWD</th>\n",
       "      <td>0.131506</td>\n",
       "    </tr>\n",
       "    <tr>\n",
       "      <th>Neighborhood_StoneBr</th>\n",
       "      <td>0.064718</td>\n",
       "    </tr>\n",
       "    <tr>\n",
       "      <th>SaleCondition_Partial</th>\n",
       "      <td>0.045327</td>\n",
       "    </tr>\n",
       "    <tr>\n",
       "      <th>BsmtCond_Gd</th>\n",
       "      <td>0.030206</td>\n",
       "    </tr>\n",
       "    <tr>\n",
       "      <th>Neighborhood_Blueste</th>\n",
       "      <td>-0.000000</td>\n",
       "    </tr>\n",
       "  </tbody>\n",
       "</table>\n",
       "</div>"
      ],
      "text/plain": [
       "                       Lasso Co-Efficient\n",
       "SaleType_CWD                     0.131506\n",
       "Neighborhood_StoneBr             0.064718\n",
       "SaleCondition_Partial            0.045327\n",
       "BsmtCond_Gd                      0.030206\n",
       "Neighborhood_Blueste            -0.000000"
      ]
     },
     "execution_count": 73,
     "metadata": {},
     "output_type": "execute_result"
    }
   ],
   "source": [
    "lasso3_coeff = pd.DataFrame(np.atleast_2d(lasso3_coef),columns=X_train_rfe3.columns)\n",
    "lasso3_coeff = lasso3_coeff.T\n",
    "lasso3_coeff.rename(columns={0: 'Lasso Co-Efficient'},inplace=True)\n",
    "lasso3_coeff.sort_values(by=['Lasso Co-Efficient'], ascending=False,inplace=True)\n",
    "print('The top-5 features after rebuilding Lasso model are as follows:')\n",
    "lasso3_coeff.head(5)"
   ]
  },
  {
   "cell_type": "code",
   "execution_count": null,
   "id": "c33c4dcb",
   "metadata": {},
   "outputs": [],
   "source": []
  }
 ],
 "metadata": {
  "kernelspec": {
   "display_name": "Python 3 (ipykernel)",
   "language": "python",
   "name": "python3"
  },
  "language_info": {
   "codemirror_mode": {
    "name": "ipython",
    "version": 3
   },
   "file_extension": ".py",
   "mimetype": "text/x-python",
   "name": "python",
   "nbconvert_exporter": "python",
   "pygments_lexer": "ipython3",
   "version": "3.8.12"
  }
 },
 "nbformat": 4,
 "nbformat_minor": 5
}
